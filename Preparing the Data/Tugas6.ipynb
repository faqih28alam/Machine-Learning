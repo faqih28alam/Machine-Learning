{
  "cells": [
    {
      "cell_type": "code",
      "source": [
        "from google.colab import drive\n",
        "drive.mount('/content/drive')"
      ],
      "metadata": {
        "colab": {
          "base_uri": "https://localhost:8080/"
        },
        "id": "-l0FD4qVDRSD",
        "outputId": "44ddd269-62f8-4c2a-cd93-d6ebf7ba084f"
      },
      "execution_count": null,
      "outputs": [
        {
          "output_type": "stream",
          "name": "stdout",
          "text": [
            "Drive already mounted at /content/drive; to attempt to forcibly remount, call drive.mount(\"/content/drive\", force_remount=True).\n"
          ]
        }
      ]
    },
    {
      "cell_type": "markdown",
      "source": [
        "\n",
        "# <center>Tugas Minggu 6 Regresi</center>\n",
        "\n",
        "\n",
        "#### Tentang Notebook\n",
        "Dari dataset insurance.csv, silakan membuat script dengan merancang regresi berikut :\n",
        "1. Regresi linier sederhana, bandingkan mse, mae, r2score untuk data masukan kolom age, bmi, dan children\n",
        "2. Regresi linier variable jamak, bandingkan mse, mae, r2score dengan regresi linier sederhana\n",
        "3. Regresi non linier SVR dan DTR sederhana bandingkan mse, mae, r2score untuk data masukan kolom age, bmi, dan children, dan bandingkan hasilnya dengan regresi linier\n",
        "4. Regresi non linier SVR dan DTR variable jamak bandingkan mse, mae, r2score untuk data masukan kolom age, bmi, dan children, dan bandingkan hasilnya dengan regresi linier"
      ],
      "metadata": {
        "id": "nVTcz7L5dOnP"
      }
    },
    {
      "cell_type": "markdown",
      "metadata": {
        "button": false,
        "new_sheet": false,
        "run_control": {
          "read_only": false
        },
        "id": "pcaW3ts3FrIZ"
      },
      "source": [
        "### Membaca Data"
      ]
    },
    {
      "cell_type": "code",
      "execution_count": null,
      "metadata": {
        "button": false,
        "new_sheet": false,
        "run_control": {
          "read_only": false
        },
        "outputId": "5896f810-321d-4150-d79d-13ffb5369d03",
        "colab": {
          "base_uri": "https://localhost:8080/"
        },
        "id": "L-d8WPxZFrIb"
      },
      "outputs": [
        {
          "output_type": "execute_result",
          "data": {
            "text/plain": [
              "   age     sex     bmi  children smoker     region      charges\n",
              "0   19  female  27.900         0    yes  southwest  16884.92400\n",
              "1   18    male  33.770         1     no  southeast   1725.55230\n",
              "2   28    male  33.000         3     no  southeast   4449.46200\n",
              "3   33    male  22.705         0     no  northwest  21984.47061\n",
              "4   32    male  28.880         0     no  northwest   3866.85520"
            ],
            "text/html": [
              "\n",
              "  <div id=\"df-148fe7b8-2908-4147-bd13-806560a113b2\">\n",
              "    <div class=\"colab-df-container\">\n",
              "      <div>\n",
              "<style scoped>\n",
              "    .dataframe tbody tr th:only-of-type {\n",
              "        vertical-align: middle;\n",
              "    }\n",
              "\n",
              "    .dataframe tbody tr th {\n",
              "        vertical-align: top;\n",
              "    }\n",
              "\n",
              "    .dataframe thead th {\n",
              "        text-align: right;\n",
              "    }\n",
              "</style>\n",
              "<table border=\"1\" class=\"dataframe\">\n",
              "  <thead>\n",
              "    <tr style=\"text-align: right;\">\n",
              "      <th></th>\n",
              "      <th>age</th>\n",
              "      <th>sex</th>\n",
              "      <th>bmi</th>\n",
              "      <th>children</th>\n",
              "      <th>smoker</th>\n",
              "      <th>region</th>\n",
              "      <th>charges</th>\n",
              "    </tr>\n",
              "  </thead>\n",
              "  <tbody>\n",
              "    <tr>\n",
              "      <th>0</th>\n",
              "      <td>19</td>\n",
              "      <td>female</td>\n",
              "      <td>27.900</td>\n",
              "      <td>0</td>\n",
              "      <td>yes</td>\n",
              "      <td>southwest</td>\n",
              "      <td>16884.92400</td>\n",
              "    </tr>\n",
              "    <tr>\n",
              "      <th>1</th>\n",
              "      <td>18</td>\n",
              "      <td>male</td>\n",
              "      <td>33.770</td>\n",
              "      <td>1</td>\n",
              "      <td>no</td>\n",
              "      <td>southeast</td>\n",
              "      <td>1725.55230</td>\n",
              "    </tr>\n",
              "    <tr>\n",
              "      <th>2</th>\n",
              "      <td>28</td>\n",
              "      <td>male</td>\n",
              "      <td>33.000</td>\n",
              "      <td>3</td>\n",
              "      <td>no</td>\n",
              "      <td>southeast</td>\n",
              "      <td>4449.46200</td>\n",
              "    </tr>\n",
              "    <tr>\n",
              "      <th>3</th>\n",
              "      <td>33</td>\n",
              "      <td>male</td>\n",
              "      <td>22.705</td>\n",
              "      <td>0</td>\n",
              "      <td>no</td>\n",
              "      <td>northwest</td>\n",
              "      <td>21984.47061</td>\n",
              "    </tr>\n",
              "    <tr>\n",
              "      <th>4</th>\n",
              "      <td>32</td>\n",
              "      <td>male</td>\n",
              "      <td>28.880</td>\n",
              "      <td>0</td>\n",
              "      <td>no</td>\n",
              "      <td>northwest</td>\n",
              "      <td>3866.85520</td>\n",
              "    </tr>\n",
              "  </tbody>\n",
              "</table>\n",
              "</div>\n",
              "      <button class=\"colab-df-convert\" onclick=\"convertToInteractive('df-148fe7b8-2908-4147-bd13-806560a113b2')\"\n",
              "              title=\"Convert this dataframe to an interactive table.\"\n",
              "              style=\"display:none;\">\n",
              "        \n",
              "  <svg xmlns=\"http://www.w3.org/2000/svg\" height=\"24px\"viewBox=\"0 0 24 24\"\n",
              "       width=\"24px\">\n",
              "    <path d=\"M0 0h24v24H0V0z\" fill=\"none\"/>\n",
              "    <path d=\"M18.56 5.44l.94 2.06.94-2.06 2.06-.94-2.06-.94-.94-2.06-.94 2.06-2.06.94zm-11 1L8.5 8.5l.94-2.06 2.06-.94-2.06-.94L8.5 2.5l-.94 2.06-2.06.94zm10 10l.94 2.06.94-2.06 2.06-.94-2.06-.94-.94-2.06-.94 2.06-2.06.94z\"/><path d=\"M17.41 7.96l-1.37-1.37c-.4-.4-.92-.59-1.43-.59-.52 0-1.04.2-1.43.59L10.3 9.45l-7.72 7.72c-.78.78-.78 2.05 0 2.83L4 21.41c.39.39.9.59 1.41.59.51 0 1.02-.2 1.41-.59l7.78-7.78 2.81-2.81c.8-.78.8-2.07 0-2.86zM5.41 20L4 18.59l7.72-7.72 1.47 1.35L5.41 20z\"/>\n",
              "  </svg>\n",
              "      </button>\n",
              "      \n",
              "  <style>\n",
              "    .colab-df-container {\n",
              "      display:flex;\n",
              "      flex-wrap:wrap;\n",
              "      gap: 12px;\n",
              "    }\n",
              "\n",
              "    .colab-df-convert {\n",
              "      background-color: #E8F0FE;\n",
              "      border: none;\n",
              "      border-radius: 50%;\n",
              "      cursor: pointer;\n",
              "      display: none;\n",
              "      fill: #1967D2;\n",
              "      height: 32px;\n",
              "      padding: 0 0 0 0;\n",
              "      width: 32px;\n",
              "    }\n",
              "\n",
              "    .colab-df-convert:hover {\n",
              "      background-color: #E2EBFA;\n",
              "      box-shadow: 0px 1px 2px rgba(60, 64, 67, 0.3), 0px 1px 3px 1px rgba(60, 64, 67, 0.15);\n",
              "      fill: #174EA6;\n",
              "    }\n",
              "\n",
              "    [theme=dark] .colab-df-convert {\n",
              "      background-color: #3B4455;\n",
              "      fill: #D2E3FC;\n",
              "    }\n",
              "\n",
              "    [theme=dark] .colab-df-convert:hover {\n",
              "      background-color: #434B5C;\n",
              "      box-shadow: 0px 1px 3px 1px rgba(0, 0, 0, 0.15);\n",
              "      filter: drop-shadow(0px 1px 2px rgba(0, 0, 0, 0.3));\n",
              "      fill: #FFFFFF;\n",
              "    }\n",
              "  </style>\n",
              "\n",
              "      <script>\n",
              "        const buttonEl =\n",
              "          document.querySelector('#df-148fe7b8-2908-4147-bd13-806560a113b2 button.colab-df-convert');\n",
              "        buttonEl.style.display =\n",
              "          google.colab.kernel.accessAllowed ? 'block' : 'none';\n",
              "\n",
              "        async function convertToInteractive(key) {\n",
              "          const element = document.querySelector('#df-148fe7b8-2908-4147-bd13-806560a113b2');\n",
              "          const dataTable =\n",
              "            await google.colab.kernel.invokeFunction('convertToInteractive',\n",
              "                                                     [key], {});\n",
              "          if (!dataTable) return;\n",
              "\n",
              "          const docLinkHtml = 'Like what you see? Visit the ' +\n",
              "            '<a target=\"_blank\" href=https://colab.research.google.com/notebooks/data_table.ipynb>data table notebook</a>'\n",
              "            + ' to learn more about interactive tables.';\n",
              "          element.innerHTML = '';\n",
              "          dataTable['output_type'] = 'display_data';\n",
              "          await google.colab.output.renderOutput(dataTable, element);\n",
              "          const docLink = document.createElement('div');\n",
              "          docLink.innerHTML = docLinkHtml;\n",
              "          element.appendChild(docLink);\n",
              "        }\n",
              "      </script>\n",
              "    </div>\n",
              "  </div>\n",
              "  "
            ]
          },
          "metadata": {},
          "execution_count": 127
        }
      ],
      "source": [
        "df = pd.read_csv(\"/content/drive/MyDrive/Colab Notebooks/Tugas Minggu 6/insurance.csv\")\n",
        "\n",
        "# melihat dataset\n",
        "df.head()"
      ]
    },
    {
      "cell_type": "markdown",
      "metadata": {
        "button": false,
        "new_sheet": false,
        "run_control": {
          "read_only": false
        },
        "id": "ZilBzCEGFrId"
      },
      "source": [
        "### Eksplorasi Data\n",
        "Eksplorasi deskriptif data yang diunduh."
      ]
    },
    {
      "cell_type": "code",
      "execution_count": null,
      "metadata": {
        "button": false,
        "new_sheet": false,
        "run_control": {
          "read_only": false
        },
        "outputId": "5a55a55f-a2cb-497d-c038-b4654e77e8b6",
        "colab": {
          "base_uri": "https://localhost:8080/"
        },
        "id": "pboZ-icaFrIe"
      },
      "outputs": [
        {
          "output_type": "execute_result",
          "data": {
            "text/plain": [
              "               age          bmi     children       charges\n",
              "count  1338.000000  1338.000000  1338.000000   1338.000000\n",
              "mean     39.207025    30.663397     1.094918  13270.422265\n",
              "std      14.049960     6.098187     1.205493  12110.011237\n",
              "min      18.000000    15.960000     0.000000   1121.873900\n",
              "25%      27.000000    26.296250     0.000000   4740.287150\n",
              "50%      39.000000    30.400000     1.000000   9382.033000\n",
              "75%      51.000000    34.693750     2.000000  16639.912515\n",
              "max      64.000000    53.130000     5.000000  63770.428010"
            ],
            "text/html": [
              "\n",
              "  <div id=\"df-0ba3a5fa-9371-4648-89a1-4e91437b8303\">\n",
              "    <div class=\"colab-df-container\">\n",
              "      <div>\n",
              "<style scoped>\n",
              "    .dataframe tbody tr th:only-of-type {\n",
              "        vertical-align: middle;\n",
              "    }\n",
              "\n",
              "    .dataframe tbody tr th {\n",
              "        vertical-align: top;\n",
              "    }\n",
              "\n",
              "    .dataframe thead th {\n",
              "        text-align: right;\n",
              "    }\n",
              "</style>\n",
              "<table border=\"1\" class=\"dataframe\">\n",
              "  <thead>\n",
              "    <tr style=\"text-align: right;\">\n",
              "      <th></th>\n",
              "      <th>age</th>\n",
              "      <th>bmi</th>\n",
              "      <th>children</th>\n",
              "      <th>charges</th>\n",
              "    </tr>\n",
              "  </thead>\n",
              "  <tbody>\n",
              "    <tr>\n",
              "      <th>count</th>\n",
              "      <td>1338.000000</td>\n",
              "      <td>1338.000000</td>\n",
              "      <td>1338.000000</td>\n",
              "      <td>1338.000000</td>\n",
              "    </tr>\n",
              "    <tr>\n",
              "      <th>mean</th>\n",
              "      <td>39.207025</td>\n",
              "      <td>30.663397</td>\n",
              "      <td>1.094918</td>\n",
              "      <td>13270.422265</td>\n",
              "    </tr>\n",
              "    <tr>\n",
              "      <th>std</th>\n",
              "      <td>14.049960</td>\n",
              "      <td>6.098187</td>\n",
              "      <td>1.205493</td>\n",
              "      <td>12110.011237</td>\n",
              "    </tr>\n",
              "    <tr>\n",
              "      <th>min</th>\n",
              "      <td>18.000000</td>\n",
              "      <td>15.960000</td>\n",
              "      <td>0.000000</td>\n",
              "      <td>1121.873900</td>\n",
              "    </tr>\n",
              "    <tr>\n",
              "      <th>25%</th>\n",
              "      <td>27.000000</td>\n",
              "      <td>26.296250</td>\n",
              "      <td>0.000000</td>\n",
              "      <td>4740.287150</td>\n",
              "    </tr>\n",
              "    <tr>\n",
              "      <th>50%</th>\n",
              "      <td>39.000000</td>\n",
              "      <td>30.400000</td>\n",
              "      <td>1.000000</td>\n",
              "      <td>9382.033000</td>\n",
              "    </tr>\n",
              "    <tr>\n",
              "      <th>75%</th>\n",
              "      <td>51.000000</td>\n",
              "      <td>34.693750</td>\n",
              "      <td>2.000000</td>\n",
              "      <td>16639.912515</td>\n",
              "    </tr>\n",
              "    <tr>\n",
              "      <th>max</th>\n",
              "      <td>64.000000</td>\n",
              "      <td>53.130000</td>\n",
              "      <td>5.000000</td>\n",
              "      <td>63770.428010</td>\n",
              "    </tr>\n",
              "  </tbody>\n",
              "</table>\n",
              "</div>\n",
              "      <button class=\"colab-df-convert\" onclick=\"convertToInteractive('df-0ba3a5fa-9371-4648-89a1-4e91437b8303')\"\n",
              "              title=\"Convert this dataframe to an interactive table.\"\n",
              "              style=\"display:none;\">\n",
              "        \n",
              "  <svg xmlns=\"http://www.w3.org/2000/svg\" height=\"24px\"viewBox=\"0 0 24 24\"\n",
              "       width=\"24px\">\n",
              "    <path d=\"M0 0h24v24H0V0z\" fill=\"none\"/>\n",
              "    <path d=\"M18.56 5.44l.94 2.06.94-2.06 2.06-.94-2.06-.94-.94-2.06-.94 2.06-2.06.94zm-11 1L8.5 8.5l.94-2.06 2.06-.94-2.06-.94L8.5 2.5l-.94 2.06-2.06.94zm10 10l.94 2.06.94-2.06 2.06-.94-2.06-.94-.94-2.06-.94 2.06-2.06.94z\"/><path d=\"M17.41 7.96l-1.37-1.37c-.4-.4-.92-.59-1.43-.59-.52 0-1.04.2-1.43.59L10.3 9.45l-7.72 7.72c-.78.78-.78 2.05 0 2.83L4 21.41c.39.39.9.59 1.41.59.51 0 1.02-.2 1.41-.59l7.78-7.78 2.81-2.81c.8-.78.8-2.07 0-2.86zM5.41 20L4 18.59l7.72-7.72 1.47 1.35L5.41 20z\"/>\n",
              "  </svg>\n",
              "      </button>\n",
              "      \n",
              "  <style>\n",
              "    .colab-df-container {\n",
              "      display:flex;\n",
              "      flex-wrap:wrap;\n",
              "      gap: 12px;\n",
              "    }\n",
              "\n",
              "    .colab-df-convert {\n",
              "      background-color: #E8F0FE;\n",
              "      border: none;\n",
              "      border-radius: 50%;\n",
              "      cursor: pointer;\n",
              "      display: none;\n",
              "      fill: #1967D2;\n",
              "      height: 32px;\n",
              "      padding: 0 0 0 0;\n",
              "      width: 32px;\n",
              "    }\n",
              "\n",
              "    .colab-df-convert:hover {\n",
              "      background-color: #E2EBFA;\n",
              "      box-shadow: 0px 1px 2px rgba(60, 64, 67, 0.3), 0px 1px 3px 1px rgba(60, 64, 67, 0.15);\n",
              "      fill: #174EA6;\n",
              "    }\n",
              "\n",
              "    [theme=dark] .colab-df-convert {\n",
              "      background-color: #3B4455;\n",
              "      fill: #D2E3FC;\n",
              "    }\n",
              "\n",
              "    [theme=dark] .colab-df-convert:hover {\n",
              "      background-color: #434B5C;\n",
              "      box-shadow: 0px 1px 3px 1px rgba(0, 0, 0, 0.15);\n",
              "      filter: drop-shadow(0px 1px 2px rgba(0, 0, 0, 0.3));\n",
              "      fill: #FFFFFF;\n",
              "    }\n",
              "  </style>\n",
              "\n",
              "      <script>\n",
              "        const buttonEl =\n",
              "          document.querySelector('#df-0ba3a5fa-9371-4648-89a1-4e91437b8303 button.colab-df-convert');\n",
              "        buttonEl.style.display =\n",
              "          google.colab.kernel.accessAllowed ? 'block' : 'none';\n",
              "\n",
              "        async function convertToInteractive(key) {\n",
              "          const element = document.querySelector('#df-0ba3a5fa-9371-4648-89a1-4e91437b8303');\n",
              "          const dataTable =\n",
              "            await google.colab.kernel.invokeFunction('convertToInteractive',\n",
              "                                                     [key], {});\n",
              "          if (!dataTable) return;\n",
              "\n",
              "          const docLinkHtml = 'Like what you see? Visit the ' +\n",
              "            '<a target=\"_blank\" href=https://colab.research.google.com/notebooks/data_table.ipynb>data table notebook</a>'\n",
              "            + ' to learn more about interactive tables.';\n",
              "          element.innerHTML = '';\n",
              "          dataTable['output_type'] = 'display_data';\n",
              "          await google.colab.output.renderOutput(dataTable, element);\n",
              "          const docLink = document.createElement('div');\n",
              "          docLink.innerHTML = docLinkHtml;\n",
              "          element.appendChild(docLink);\n",
              "        }\n",
              "      </script>\n",
              "    </div>\n",
              "  </div>\n",
              "  "
            ]
          },
          "metadata": {},
          "execution_count": 128
        }
      ],
      "source": [
        "# merangkum data\n",
        "df.describe()"
      ]
    },
    {
      "cell_type": "markdown",
      "metadata": {
        "id": "Mm81fIPGFrIg"
      },
      "source": [
        "Beberapa fitur dapat dieksplorasi dengan cara berikut."
      ]
    },
    {
      "cell_type": "code",
      "execution_count": null,
      "metadata": {
        "button": false,
        "new_sheet": false,
        "run_control": {
          "read_only": false
        },
        "outputId": "db4a51a6-2b11-47b2-ed12-ae8af0ff2626",
        "colab": {
          "base_uri": "https://localhost:8080/"
        },
        "id": "txygFNJDFrIg"
      },
      "outputs": [
        {
          "output_type": "execute_result",
          "data": {
            "text/plain": [
              "   age     bmi  children      charges\n",
              "0   19  27.900         0  16884.92400\n",
              "1   18  33.770         1   1725.55230\n",
              "2   28  33.000         3   4449.46200\n",
              "3   33  22.705         0  21984.47061\n",
              "4   32  28.880         0   3866.85520\n",
              "5   31  25.740         0   3756.62160\n",
              "6   46  33.440         1   8240.58960\n",
              "7   37  27.740         3   7281.50560\n",
              "8   37  29.830         2   6406.41070\n",
              "9   60  25.840         0  28923.13692"
            ],
            "text/html": [
              "\n",
              "  <div id=\"df-59aa0f37-eba9-465d-83c6-0f2460959c02\">\n",
              "    <div class=\"colab-df-container\">\n",
              "      <div>\n",
              "<style scoped>\n",
              "    .dataframe tbody tr th:only-of-type {\n",
              "        vertical-align: middle;\n",
              "    }\n",
              "\n",
              "    .dataframe tbody tr th {\n",
              "        vertical-align: top;\n",
              "    }\n",
              "\n",
              "    .dataframe thead th {\n",
              "        text-align: right;\n",
              "    }\n",
              "</style>\n",
              "<table border=\"1\" class=\"dataframe\">\n",
              "  <thead>\n",
              "    <tr style=\"text-align: right;\">\n",
              "      <th></th>\n",
              "      <th>age</th>\n",
              "      <th>bmi</th>\n",
              "      <th>children</th>\n",
              "      <th>charges</th>\n",
              "    </tr>\n",
              "  </thead>\n",
              "  <tbody>\n",
              "    <tr>\n",
              "      <th>0</th>\n",
              "      <td>19</td>\n",
              "      <td>27.900</td>\n",
              "      <td>0</td>\n",
              "      <td>16884.92400</td>\n",
              "    </tr>\n",
              "    <tr>\n",
              "      <th>1</th>\n",
              "      <td>18</td>\n",
              "      <td>33.770</td>\n",
              "      <td>1</td>\n",
              "      <td>1725.55230</td>\n",
              "    </tr>\n",
              "    <tr>\n",
              "      <th>2</th>\n",
              "      <td>28</td>\n",
              "      <td>33.000</td>\n",
              "      <td>3</td>\n",
              "      <td>4449.46200</td>\n",
              "    </tr>\n",
              "    <tr>\n",
              "      <th>3</th>\n",
              "      <td>33</td>\n",
              "      <td>22.705</td>\n",
              "      <td>0</td>\n",
              "      <td>21984.47061</td>\n",
              "    </tr>\n",
              "    <tr>\n",
              "      <th>4</th>\n",
              "      <td>32</td>\n",
              "      <td>28.880</td>\n",
              "      <td>0</td>\n",
              "      <td>3866.85520</td>\n",
              "    </tr>\n",
              "    <tr>\n",
              "      <th>5</th>\n",
              "      <td>31</td>\n",
              "      <td>25.740</td>\n",
              "      <td>0</td>\n",
              "      <td>3756.62160</td>\n",
              "    </tr>\n",
              "    <tr>\n",
              "      <th>6</th>\n",
              "      <td>46</td>\n",
              "      <td>33.440</td>\n",
              "      <td>1</td>\n",
              "      <td>8240.58960</td>\n",
              "    </tr>\n",
              "    <tr>\n",
              "      <th>7</th>\n",
              "      <td>37</td>\n",
              "      <td>27.740</td>\n",
              "      <td>3</td>\n",
              "      <td>7281.50560</td>\n",
              "    </tr>\n",
              "    <tr>\n",
              "      <th>8</th>\n",
              "      <td>37</td>\n",
              "      <td>29.830</td>\n",
              "      <td>2</td>\n",
              "      <td>6406.41070</td>\n",
              "    </tr>\n",
              "    <tr>\n",
              "      <th>9</th>\n",
              "      <td>60</td>\n",
              "      <td>25.840</td>\n",
              "      <td>0</td>\n",
              "      <td>28923.13692</td>\n",
              "    </tr>\n",
              "  </tbody>\n",
              "</table>\n",
              "</div>\n",
              "      <button class=\"colab-df-convert\" onclick=\"convertToInteractive('df-59aa0f37-eba9-465d-83c6-0f2460959c02')\"\n",
              "              title=\"Convert this dataframe to an interactive table.\"\n",
              "              style=\"display:none;\">\n",
              "        \n",
              "  <svg xmlns=\"http://www.w3.org/2000/svg\" height=\"24px\"viewBox=\"0 0 24 24\"\n",
              "       width=\"24px\">\n",
              "    <path d=\"M0 0h24v24H0V0z\" fill=\"none\"/>\n",
              "    <path d=\"M18.56 5.44l.94 2.06.94-2.06 2.06-.94-2.06-.94-.94-2.06-.94 2.06-2.06.94zm-11 1L8.5 8.5l.94-2.06 2.06-.94-2.06-.94L8.5 2.5l-.94 2.06-2.06.94zm10 10l.94 2.06.94-2.06 2.06-.94-2.06-.94-.94-2.06-.94 2.06-2.06.94z\"/><path d=\"M17.41 7.96l-1.37-1.37c-.4-.4-.92-.59-1.43-.59-.52 0-1.04.2-1.43.59L10.3 9.45l-7.72 7.72c-.78.78-.78 2.05 0 2.83L4 21.41c.39.39.9.59 1.41.59.51 0 1.02-.2 1.41-.59l7.78-7.78 2.81-2.81c.8-.78.8-2.07 0-2.86zM5.41 20L4 18.59l7.72-7.72 1.47 1.35L5.41 20z\"/>\n",
              "  </svg>\n",
              "      </button>\n",
              "      \n",
              "  <style>\n",
              "    .colab-df-container {\n",
              "      display:flex;\n",
              "      flex-wrap:wrap;\n",
              "      gap: 12px;\n",
              "    }\n",
              "\n",
              "    .colab-df-convert {\n",
              "      background-color: #E8F0FE;\n",
              "      border: none;\n",
              "      border-radius: 50%;\n",
              "      cursor: pointer;\n",
              "      display: none;\n",
              "      fill: #1967D2;\n",
              "      height: 32px;\n",
              "      padding: 0 0 0 0;\n",
              "      width: 32px;\n",
              "    }\n",
              "\n",
              "    .colab-df-convert:hover {\n",
              "      background-color: #E2EBFA;\n",
              "      box-shadow: 0px 1px 2px rgba(60, 64, 67, 0.3), 0px 1px 3px 1px rgba(60, 64, 67, 0.15);\n",
              "      fill: #174EA6;\n",
              "    }\n",
              "\n",
              "    [theme=dark] .colab-df-convert {\n",
              "      background-color: #3B4455;\n",
              "      fill: #D2E3FC;\n",
              "    }\n",
              "\n",
              "    [theme=dark] .colab-df-convert:hover {\n",
              "      background-color: #434B5C;\n",
              "      box-shadow: 0px 1px 3px 1px rgba(0, 0, 0, 0.15);\n",
              "      filter: drop-shadow(0px 1px 2px rgba(0, 0, 0, 0.3));\n",
              "      fill: #FFFFFF;\n",
              "    }\n",
              "  </style>\n",
              "\n",
              "      <script>\n",
              "        const buttonEl =\n",
              "          document.querySelector('#df-59aa0f37-eba9-465d-83c6-0f2460959c02 button.colab-df-convert');\n",
              "        buttonEl.style.display =\n",
              "          google.colab.kernel.accessAllowed ? 'block' : 'none';\n",
              "\n",
              "        async function convertToInteractive(key) {\n",
              "          const element = document.querySelector('#df-59aa0f37-eba9-465d-83c6-0f2460959c02');\n",
              "          const dataTable =\n",
              "            await google.colab.kernel.invokeFunction('convertToInteractive',\n",
              "                                                     [key], {});\n",
              "          if (!dataTable) return;\n",
              "\n",
              "          const docLinkHtml = 'Like what you see? Visit the ' +\n",
              "            '<a target=\"_blank\" href=https://colab.research.google.com/notebooks/data_table.ipynb>data table notebook</a>'\n",
              "            + ' to learn more about interactive tables.';\n",
              "          element.innerHTML = '';\n",
              "          dataTable['output_type'] = 'display_data';\n",
              "          await google.colab.output.renderOutput(dataTable, element);\n",
              "          const docLink = document.createElement('div');\n",
              "          docLink.innerHTML = docLinkHtml;\n",
              "          element.appendChild(docLink);\n",
              "        }\n",
              "      </script>\n",
              "    </div>\n",
              "  </div>\n",
              "  "
            ]
          },
          "metadata": {},
          "execution_count": 129
        }
      ],
      "source": [
        "cdf = df[['age','bmi','children','charges']]\n",
        "cdf.head(10)"
      ]
    },
    {
      "cell_type": "markdown",
      "metadata": {
        "id": "zkftp_tJFrIh"
      },
      "source": [
        "Fitur-fitur tersebut dapat diplot sebagai berikut:"
      ]
    },
    {
      "cell_type": "code",
      "execution_count": null,
      "metadata": {
        "button": false,
        "new_sheet": false,
        "run_control": {
          "read_only": false
        },
        "outputId": "1ca61727-5a67-422f-f038-f31ce24e47c6",
        "colab": {
          "base_uri": "https://localhost:8080/"
        },
        "id": "XYWjy2QsFrIi"
      },
      "outputs": [
        {
          "output_type": "display_data",
          "data": {
            "text/plain": [
              "<Figure size 432x288 with 4 Axes>"
            ],
            "image/png": "[encoded data removed]"
          },
          "metadata": {
            "needs_background": "light"
          }
        }
      ],
      "source": [
        "viz = cdf[['age','bmi','children','charges']]\n",
        "viz.hist()\n",
        "plt.show()"
      ]
    },
    {
      "cell_type": "markdown",
      "metadata": {
        "id": "QX5aV7oMFrIj"
      },
      "source": [
        "Plot fitur-fitur vs emisi dapat dibuat dan dapat dilihat linearitas hubungannya."
      ]
    },
    {
      "cell_type": "code",
      "execution_count": null,
      "metadata": {
        "button": false,
        "new_sheet": false,
        "run_control": {
          "read_only": false
        },
        "outputId": "02edae71-d5cf-40ec-e42f-d1c965590cb8",
        "colab": {
          "base_uri": "https://localhost:8080/"
        },
        "id": "lXu0Yr3_FrIk"
      },
      "outputs": [
        {
          "output_type": "display_data",
          "data": {
            "text/plain": [
              "<Figure size 432x288 with 1 Axes>"
            ],
            "image/png": "[encoded data removed]"
          },
          "metadata": {
            "needs_background": "light"
          }
        }
      ],
      "source": [
        "plt.scatter(cdf.age, cdf.charges,  color='blue')\n",
        "plt.xlabel(\"age\")\n",
        "plt.ylabel(\"charges\")\n",
        "plt.show()\n"
      ]
    },
    {
      "cell_type": "code",
      "execution_count": null,
      "metadata": {
        "button": false,
        "new_sheet": false,
        "run_control": {
          "read_only": false
        },
        "scrolled": true,
        "outputId": "449b9802-976e-414f-fbc9-e0b8efb2c580",
        "colab": {
          "base_uri": "https://localhost:8080/"
        },
        "id": "_sVhifyPFrIl"
      },
      "outputs": [
        {
          "output_type": "display_data",
          "data": {
            "text/plain": [
              "<Figure size 432x288 with 1 Axes>"
            ],
            "image/png": "[encoded data removed]"
          },
          "metadata": {
            "needs_background": "light"
          }
        }
      ],
      "source": [
        "plt.scatter(cdf.bmi, cdf.charges,  color='blue')\n",
        "plt.xlabel(\"bmi\")\n",
        "plt.ylabel(\"charges\")\n",
        "plt.show()\n"
      ]
    },
    {
      "cell_type": "code",
      "execution_count": null,
      "metadata": {
        "outputId": "9264cd0d-4e41-4f21-dd91-5016c2c80c45",
        "colab": {
          "base_uri": "https://localhost:8080/"
        },
        "id": "7-SlM4DLFrIm"
      },
      "outputs": [
        {
          "output_type": "display_data",
          "data": {
            "text/plain": [
              "<Figure size 432x288 with 1 Axes>"
            ],
            "image/png": "[encoded data removed]"
          },
          "metadata": {
            "needs_background": "light"
          }
        }
      ],
      "source": [
        "plt.scatter(cdf.children, cdf.charges,  color='blue')\n",
        "plt.xlabel(\"children\")\n",
        "plt.ylabel(\"charges\")\n",
        "plt.show()\n"
      ]
    },
    {
      "cell_type": "markdown",
      "metadata": {
        "button": false,
        "id": "RadFilGjGXTI",
        "new_sheet": false,
        "run_control": {
          "read_only": false
        }
      },
      "source": [
        "\n",
        "# (1.) Regresi linier sederhana, bandingkan mse, mae, r2score untuk data masukan kolom age, bmi, dan children"
      ]
    },
    {
      "cell_type": "markdown",
      "metadata": {
        "button": false,
        "id": "12OBgXHCGXTM",
        "new_sheet": false,
        "run_control": {
          "read_only": false
        }
      },
      "source": [
        "### Import packages yang diperlukan"
      ]
    },
    {
      "cell_type": "code",
      "execution_count": null,
      "metadata": {
        "button": false,
        "id": "OkrAyKSAGXTP",
        "new_sheet": false,
        "run_control": {
          "read_only": false
        }
      },
      "outputs": [],
      "source": [
        "import matplotlib.pyplot as plt\n",
        "import pandas as pd\n",
        "import pylab as pl\n",
        "import numpy as np\n",
        "%matplotlib inline"
      ]
    },
    {
      "cell_type": "markdown",
      "metadata": {
        "button": false,
        "id": "zWMnFI1KGXUl",
        "new_sheet": false,
        "run_control": {
          "read_only": false
        }
      },
      "source": [
        "### Pembuatan dataset pelatihan dan pengujian\n",
        "Pemisahan data latih/uji melibatkan pemisahan dataset menjadi dataset pelatihan dan pengujian, yang saling eksklusif. Setelah itu, dataset pelatihan dapat digunakan untuk membuat model dan dataset pengujian untuk pengujian.\n",
        "Hal ini akan memberikan evaluasi yang lebih akurat pada akurasi out-of-sample karena dataset pengujian bukan merupakan bagian dari dataset yang telah digunakan untuk melatih data. Ini lebih realistis untuk masalah dunia nyata.\n",
        "\n",
        "Ini berarti bahwa hasil dari setiap titik data dalam kumpulan data ini diketahui, sehingga sangat bagus untuk data pengujian. Dataset pengujian belum digunakan untuk melatih model, sehingga model tidak memiliki pengetahuan tentang hasil dari data ini, sehingga dapat disebut pengujian di luar sampel.\n",
        "\n"
      ]
    },
    {
      "cell_type": "code",
      "execution_count": null,
      "metadata": {
        "button": false,
        "id": "ss6ZUnQiGXUn",
        "new_sheet": false,
        "run_control": {
          "read_only": false
        },
        "outputId": "c1d9adb7-6937-486c-ede6-b28b343e6eac",
        "colab": {
          "base_uri": "https://localhost:8080/"
        }
      },
      "outputs": [
        {
          "output_type": "execute_result",
          "data": {
            "text/plain": [
              "      age     bmi  children      charges\n",
              "0      19  27.900         0  16884.92400\n",
              "1      18  33.770         1   1725.55230\n",
              "3      33  22.705         0  21984.47061\n",
              "4      32  28.880         0   3866.85520\n",
              "5      31  25.740         0   3756.62160\n",
              "...   ...     ...       ...          ...\n",
              "1332   52  44.700         3  11411.68500\n",
              "1333   50  30.970         3  10600.54830\n",
              "1334   18  31.920         0   2205.98080\n",
              "1335   18  36.850         0   1629.83350\n",
              "1336   21  25.800         0   2007.94500\n",
              "\n",
              "[1059 rows x 4 columns]"
            ],
            "text/html": [
              "\n",
              "  <div id=\"df-dc8cc07e-1a33-4f2e-89a1-1c3965be481f\">\n",
              "    <div class=\"colab-df-container\">\n",
              "      <div>\n",
              "<style scoped>\n",
              "    .dataframe tbody tr th:only-of-type {\n",
              "        vertical-align: middle;\n",
              "    }\n",
              "\n",
              "    .dataframe tbody tr th {\n",
              "        vertical-align: top;\n",
              "    }\n",
              "\n",
              "    .dataframe thead th {\n",
              "        text-align: right;\n",
              "    }\n",
              "</style>\n",
              "<table border=\"1\" class=\"dataframe\">\n",
              "  <thead>\n",
              "    <tr style=\"text-align: right;\">\n",
              "      <th></th>\n",
              "      <th>age</th>\n",
              "      <th>bmi</th>\n",
              "      <th>children</th>\n",
              "      <th>charges</th>\n",
              "    </tr>\n",
              "  </thead>\n",
              "  <tbody>\n",
              "    <tr>\n",
              "      <th>0</th>\n",
              "      <td>19</td>\n",
              "      <td>27.900</td>\n",
              "      <td>0</td>\n",
              "      <td>16884.92400</td>\n",
              "    </tr>\n",
              "    <tr>\n",
              "      <th>1</th>\n",
              "      <td>18</td>\n",
              "      <td>33.770</td>\n",
              "      <td>1</td>\n",
              "      <td>1725.55230</td>\n",
              "    </tr>\n",
              "    <tr>\n",
              "      <th>3</th>\n",
              "      <td>33</td>\n",
              "      <td>22.705</td>\n",
              "      <td>0</td>\n",
              "      <td>21984.47061</td>\n",
              "    </tr>\n",
              "    <tr>\n",
              "      <th>4</th>\n",
              "      <td>32</td>\n",
              "      <td>28.880</td>\n",
              "      <td>0</td>\n",
              "      <td>3866.85520</td>\n",
              "    </tr>\n",
              "    <tr>\n",
              "      <th>5</th>\n",
              "      <td>31</td>\n",
              "      <td>25.740</td>\n",
              "      <td>0</td>\n",
              "      <td>3756.62160</td>\n",
              "    </tr>\n",
              "    <tr>\n",
              "      <th>...</th>\n",
              "      <td>...</td>\n",
              "      <td>...</td>\n",
              "      <td>...</td>\n",
              "      <td>...</td>\n",
              "    </tr>\n",
              "    <tr>\n",
              "      <th>1332</th>\n",
              "      <td>52</td>\n",
              "      <td>44.700</td>\n",
              "      <td>3</td>\n",
              "      <td>11411.68500</td>\n",
              "    </tr>\n",
              "    <tr>\n",
              "      <th>1333</th>\n",
              "      <td>50</td>\n",
              "      <td>30.970</td>\n",
              "      <td>3</td>\n",
              "      <td>10600.54830</td>\n",
              "    </tr>\n",
              "    <tr>\n",
              "      <th>1334</th>\n",
              "      <td>18</td>\n",
              "      <td>31.920</td>\n",
              "      <td>0</td>\n",
              "      <td>2205.98080</td>\n",
              "    </tr>\n",
              "    <tr>\n",
              "      <th>1335</th>\n",
              "      <td>18</td>\n",
              "      <td>36.850</td>\n",
              "      <td>0</td>\n",
              "      <td>1629.83350</td>\n",
              "    </tr>\n",
              "    <tr>\n",
              "      <th>1336</th>\n",
              "      <td>21</td>\n",
              "      <td>25.800</td>\n",
              "      <td>0</td>\n",
              "      <td>2007.94500</td>\n",
              "    </tr>\n",
              "  </tbody>\n",
              "</table>\n",
              "<p>1059 rows × 4 columns</p>\n",
              "</div>\n",
              "      <button class=\"colab-df-convert\" onclick=\"convertToInteractive('df-dc8cc07e-1a33-4f2e-89a1-1c3965be481f')\"\n",
              "              title=\"Convert this dataframe to an interactive table.\"\n",
              "              style=\"display:none;\">\n",
              "        \n",
              "  <svg xmlns=\"http://www.w3.org/2000/svg\" height=\"24px\"viewBox=\"0 0 24 24\"\n",
              "       width=\"24px\">\n",
              "    <path d=\"M0 0h24v24H0V0z\" fill=\"none\"/>\n",
              "    <path d=\"M18.56 5.44l.94 2.06.94-2.06 2.06-.94-2.06-.94-.94-2.06-.94 2.06-2.06.94zm-11 1L8.5 8.5l.94-2.06 2.06-.94-2.06-.94L8.5 2.5l-.94 2.06-2.06.94zm10 10l.94 2.06.94-2.06 2.06-.94-2.06-.94-.94-2.06-.94 2.06-2.06.94z\"/><path d=\"M17.41 7.96l-1.37-1.37c-.4-.4-.92-.59-1.43-.59-.52 0-1.04.2-1.43.59L10.3 9.45l-7.72 7.72c-.78.78-.78 2.05 0 2.83L4 21.41c.39.39.9.59 1.41.59.51 0 1.02-.2 1.41-.59l7.78-7.78 2.81-2.81c.8-.78.8-2.07 0-2.86zM5.41 20L4 18.59l7.72-7.72 1.47 1.35L5.41 20z\"/>\n",
              "  </svg>\n",
              "      </button>\n",
              "      \n",
              "  <style>\n",
              "    .colab-df-container {\n",
              "      display:flex;\n",
              "      flex-wrap:wrap;\n",
              "      gap: 12px;\n",
              "    }\n",
              "\n",
              "    .colab-df-convert {\n",
              "      background-color: #E8F0FE;\n",
              "      border: none;\n",
              "      border-radius: 50%;\n",
              "      cursor: pointer;\n",
              "      display: none;\n",
              "      fill: #1967D2;\n",
              "      height: 32px;\n",
              "      padding: 0 0 0 0;\n",
              "      width: 32px;\n",
              "    }\n",
              "\n",
              "    .colab-df-convert:hover {\n",
              "      background-color: #E2EBFA;\n",
              "      box-shadow: 0px 1px 2px rgba(60, 64, 67, 0.3), 0px 1px 3px 1px rgba(60, 64, 67, 0.15);\n",
              "      fill: #174EA6;\n",
              "    }\n",
              "\n",
              "    [theme=dark] .colab-df-convert {\n",
              "      background-color: #3B4455;\n",
              "      fill: #D2E3FC;\n",
              "    }\n",
              "\n",
              "    [theme=dark] .colab-df-convert:hover {\n",
              "      background-color: #434B5C;\n",
              "      box-shadow: 0px 1px 3px 1px rgba(0, 0, 0, 0.15);\n",
              "      filter: drop-shadow(0px 1px 2px rgba(0, 0, 0, 0.3));\n",
              "      fill: #FFFFFF;\n",
              "    }\n",
              "  </style>\n",
              "\n",
              "      <script>\n",
              "        const buttonEl =\n",
              "          document.querySelector('#df-dc8cc07e-1a33-4f2e-89a1-1c3965be481f button.colab-df-convert');\n",
              "        buttonEl.style.display =\n",
              "          google.colab.kernel.accessAllowed ? 'block' : 'none';\n",
              "\n",
              "        async function convertToInteractive(key) {\n",
              "          const element = document.querySelector('#df-dc8cc07e-1a33-4f2e-89a1-1c3965be481f');\n",
              "          const dataTable =\n",
              "            await google.colab.kernel.invokeFunction('convertToInteractive',\n",
              "                                                     [key], {});\n",
              "          if (!dataTable) return;\n",
              "\n",
              "          const docLinkHtml = 'Like what you see? Visit the ' +\n",
              "            '<a target=\"_blank\" href=https://colab.research.google.com/notebooks/data_table.ipynb>data table notebook</a>'\n",
              "            + ' to learn more about interactive tables.';\n",
              "          element.innerHTML = '';\n",
              "          dataTable['output_type'] = 'display_data';\n",
              "          await google.colab.output.renderOutput(dataTable, element);\n",
              "          const docLink = document.createElement('div');\n",
              "          docLink.innerHTML = docLinkHtml;\n",
              "          element.appendChild(docLink);\n",
              "        }\n",
              "      </script>\n",
              "    </div>\n",
              "  </div>\n",
              "  "
            ]
          },
          "metadata": {},
          "execution_count": 135
        }
      ],
      "source": [
        "msk = np.random.rand(len(df)) < 0.8\n",
        "train = cdf[msk]\n",
        "test = cdf[~msk]\n",
        "len(train)+len(test)\n",
        "len(train)\n",
        "len(test)\n",
        "# len(test)\n",
        "# train\n",
        "# test\n",
        "# df\n",
        "# msk\n",
        "# train\n",
        "# len(df)\n",
        "train"
      ]
    },
    {
      "cell_type": "markdown",
      "metadata": {
        "button": false,
        "id": "cHwfHZ2gGXUt",
        "new_sheet": false,
        "run_control": {
          "read_only": false
        }
      },
      "source": [
        "### Model Regresi Sederhana dari fitur \"age\"\n",
        "Regresi Linier cocok dengan model linier dengan koefisien B = (B1, ..., Bn) untuk meminimalkan 'jumlah kuadrat sisa (residu)' antara x bebas dalam kumpulan data, dan y tak bebas dengan pendekatan linier."
      ]
    },
    {
      "cell_type": "markdown",
      "metadata": {
        "button": false,
        "new_sheet": false,
        "run_control": {
          "read_only": false
        },
        "id": "28GEGE6Pjqcl"
      },
      "source": [
        "#### Distribusi Data Pelatihan \n",
        "\n"
      ]
    },
    {
      "cell_type": "code",
      "execution_count": null,
      "metadata": {
        "button": false,
        "new_sheet": false,
        "run_control": {
          "read_only": false
        },
        "outputId": "4c086bb2-4f39-4237-f656-f44b2ce1f575",
        "colab": {
          "base_uri": "https://localhost:8080/"
        },
        "id": "hxrDTsdCjqcl"
      },
      "outputs": [
        {
          "output_type": "display_data",
          "data": {
            "text/plain": [
              "<Figure size 432x288 with 1 Axes>"
            ],
            "image/png": "[encoded data removed]"
          },
          "metadata": {
            "needs_background": "light"
          }
        }
      ],
      "source": [
        "plt.scatter(train.age, train.charges,  color='blue')\n",
        "plt.xlabel(\"age\")\n",
        "plt.ylabel(\"charges\")\n",
        "plt.show()\n"
      ]
    },
    {
      "cell_type": "markdown",
      "metadata": {
        "button": false,
        "new_sheet": false,
        "run_control": {
          "read_only": false
        },
        "id": "b9yDFDIHjqcm"
      },
      "source": [
        "#### Pemodelan\n",
        "Menggunakan sklearn package untuk memodelkan data."
      ]
    },
    {
      "cell_type": "code",
      "execution_count": null,
      "metadata": {
        "button": false,
        "new_sheet": false,
        "run_control": {
          "read_only": false
        },
        "outputId": "9226de2b-cbfd-4567-e531-c0d62d64b430",
        "colab": {
          "base_uri": "https://localhost:8080/"
        },
        "id": "NADKpLS2jqcm"
      },
      "outputs": [
        {
          "output_type": "stream",
          "name": "stdout",
          "text": [
            "Coefficients:  [[246.72940535]]\n",
            "Intercept:  [3481.54253816]\n"
          ]
        }
      ],
      "source": [
        "from sklearn import linear_model\n",
        "regr = linear_model.LinearRegression()\n",
        "train_x = np.asanyarray(train[['age']]) #asanyarray mengambil array indeks dari data train\n",
        "train_y = np.asanyarray(train[['charges']])\n",
        "regr.fit (train_x, train_y)\n",
        "# The coefficients\n",
        "print ('Coefficients: ', regr.coef_)  #teta1\n",
        "print ('Intercept: ',regr.intercept_) #teta0\n"
      ]
    },
    {
      "cell_type": "markdown",
      "metadata": {
        "id": "V1pXRKYyjqcm"
      },
      "source": [
        "Seperti disebutkan sebelumnya, __koefisien__ dan __intercept__ dalam regresi linier sederhana, adalah parameter dari garis yang cocok dengan data.\n",
        "Mengingat bahwa ini adalah regresi linier sederhana, dengan hanya 2 parameter, dan mengetahui bahwa parameternya adalah intercept dan kemiringan atau gradien garis (koefisien), sklearn dapat memperkirakannya langsung dari data.\n",
        "Perhatikan bahwa semua data harus tersedia untuk menghitung parameter.\n"
      ]
    },
    {
      "cell_type": "markdown",
      "metadata": {
        "button": false,
        "new_sheet": false,
        "run_control": {
          "read_only": false
        },
        "id": "VsG-BR5Ujqcm"
      },
      "source": [
        "#### Plot output model"
      ]
    },
    {
      "cell_type": "markdown",
      "metadata": {
        "id": "de95DkMUjqcn"
      },
      "source": [
        "Plotting garis yang mencocoki terhadap data:"
      ]
    },
    {
      "cell_type": "code",
      "execution_count": null,
      "metadata": {
        "button": false,
        "new_sheet": false,
        "run_control": {
          "read_only": false
        },
        "outputId": "9e9b1633-a576-4899-af21-9629c629b064",
        "colab": {
          "base_uri": "https://localhost:8080/"
        },
        "id": "mXRqUwa8jqcn"
      },
      "outputs": [
        {
          "output_type": "execute_result",
          "data": {
            "text/plain": [
              "Text(0, 0.5, 'charges')"
            ]
          },
          "metadata": {},
          "execution_count": 138
        },
        {
          "output_type": "display_data",
          "data": {
            "text/plain": [
              "<Figure size 432x288 with 1 Axes>"
            ],
            "image/png": "[encoded data removed]"
          },
          "metadata": {
            "needs_background": "light"
          }
        }
      ],
      "source": [
        "plt.scatter(train.age, train.charges,  color='blue')\n",
        "plt.plot(train_x, regr.coef_[0][0]*train_x + regr.intercept_[0], '-r')\n",
        "plt.xlabel(\"age\")\n",
        "plt.ylabel(\"charges\")\n"
      ]
    },
    {
      "cell_type": "markdown",
      "metadata": {
        "button": false,
        "new_sheet": false,
        "run_control": {
          "read_only": false
        },
        "id": "MO2Ox3j8jqcn"
      },
      "source": [
        "#### Evaluasi\n",
        "Nilai aktual dan nilai prediksi dapat dibandingkan untuk menghitung akurasi dari model regresi. Metrik evaluasi sangat penting untuk pengembangan model karena memberikan pengetahuan untuk perbaikan model.\n",
        "\n",
        "Ada berbagai metrik untuk evaluasi model, misalnya MSE sebagai error untuk mengetahui akurasi dari model yang dibangun yang dihitung dari MSE model terhadap data pengujian: \n",
        "    - Mean Absolute Error (MAE): Rerata dari nilai absolut dari error. MAE adalah metrik paling mudah dipahami karena hanya rata-rata dari error.\n",
        "    - Mean Squared Error (MSE): adalah rerata dari error dikuadratkan. MSE lebih populer dibanding MAE karena fokus pada error yang besar karena dikuadratkan sehingga berdampak lebih besar terhadap error yang lebih besar dibandingkan error yang lebih kecil.\n",
        "    - Root Mean Squared Error (RMSE).\n",
        "    - R-squared bukan error namun metrik yang populer yang merepresentasikan sejauh mana data cocok dengan garis regresi yang didapatkan. Semakin besar R-squared akan semaki baik pencocokan garis terhadap data. Nilai terbaik adalah 1.0 dan dapat bernilai negatif.\n"
      ]
    },
    {
      "cell_type": "code",
      "execution_count": null,
      "metadata": {
        "button": false,
        "new_sheet": false,
        "run_control": {
          "read_only": false
        },
        "scrolled": true,
        "outputId": "7a10e4fb-1277-468f-bce4-f7bdf6d84d64",
        "colab": {
          "base_uri": "https://localhost:8080/"
        },
        "id": "A2EgalTGjqcn"
      },
      "outputs": [
        {
          "output_type": "stream",
          "name": "stdout",
          "text": [
            "Mean absolute error: 9232.52\n",
            "Residual sum of squares (MSE): 146586147.70\n",
            "R2-score: -11.6\n"
          ]
        }
      ],
      "source": [
        "from sklearn.metrics import r2_score\n",
        "\n",
        "test_x = np.asanyarray(test[['age']])\n",
        "test_y = np.asanyarray(test[['charges']])\n",
        "test_y_ = regr.predict(test_x)\n",
        "\n",
        "print(\"Mean absolute error: %.2f\" % np.mean(np.absolute(test_y_ - test_y)))\n",
        "print(\"Residual sum of squares (MSE): %.2f\" % np.mean((test_y_ - test_y) ** 2))\n",
        "print(\"R2-score: %.1f\" % r2_score(test_y_ , test_y) )"
      ]
    },
    {
      "cell_type": "markdown",
      "metadata": {
        "button": false,
        "new_sheet": false,
        "run_control": {
          "read_only": false
        },
        "id": "K_4I3QdDjqco"
      },
      "source": [
        "### Model Regresi Sederhana dari fitur \"children\"\n",
        "Regresi Linier cocok dengan model linier dengan koefisien B = (B1, ..., Bn) untuk meminimalkan 'jumlah kuadrat sisa (residu)' antara x bebas dalam kumpulan data, dan y tak bebas dengan pendekatan linier."
      ]
    },
    {
      "cell_type": "markdown",
      "metadata": {
        "button": false,
        "new_sheet": false,
        "run_control": {
          "read_only": false
        },
        "id": "anUTSMR8jqco"
      },
      "source": [
        "#### Distribusi Data Pelatihan \n",
        "\n"
      ]
    },
    {
      "cell_type": "code",
      "execution_count": null,
      "metadata": {
        "button": false,
        "new_sheet": false,
        "run_control": {
          "read_only": false
        },
        "outputId": "0acac367-2c7d-4163-96cd-8ca4de86f213",
        "colab": {
          "base_uri": "https://localhost:8080/"
        },
        "id": "_lLIlENdjqcq"
      },
      "outputs": [
        {
          "output_type": "display_data",
          "data": {
            "text/plain": [
              "<Figure size 432x288 with 1 Axes>"
            ],
            "image/png": "[encoded data removed]"
          },
          "metadata": {
            "needs_background": "light"
          }
        }
      ],
      "source": [
        "plt.scatter(train.children, train.charges,  color='blue')\n",
        "plt.xlabel(\"children\")\n",
        "plt.ylabel(\"charges\")\n",
        "plt.show()\n"
      ]
    },
    {
      "cell_type": "markdown",
      "metadata": {
        "button": false,
        "new_sheet": false,
        "run_control": {
          "read_only": false
        },
        "id": "ML6jQ_2ijqcq"
      },
      "source": [
        "#### Pemodelan\n",
        "Menggunakan sklearn package untuk memodelkan data."
      ]
    },
    {
      "cell_type": "code",
      "execution_count": null,
      "metadata": {
        "button": false,
        "new_sheet": false,
        "run_control": {
          "read_only": false
        },
        "outputId": "cade804e-f1d5-42cf-930a-629525919da1",
        "colab": {
          "base_uri": "https://localhost:8080/"
        },
        "id": "ygp3sk_qjqcr"
      },
      "outputs": [
        {
          "output_type": "stream",
          "name": "stdout",
          "text": [
            "Coefficients:  [[912.51157445]]\n",
            "Intercept:  [12084.84138033]\n"
          ]
        }
      ],
      "source": [
        "from sklearn import linear_model\n",
        "regr = linear_model.LinearRegression()\n",
        "train_x = np.asanyarray(train[['children']]) #asanyarray mengambil array indeks dari data train\n",
        "train_y = np.asanyarray(train[['charges']])\n",
        "regr.fit (train_x, train_y)\n",
        "# The coefficients\n",
        "print ('Coefficients: ', regr.coef_)  #teta1\n",
        "print ('Intercept: ',regr.intercept_) #teta0\n"
      ]
    },
    {
      "cell_type": "markdown",
      "metadata": {
        "id": "qICwA3xxjqcr"
      },
      "source": [
        "Seperti disebutkan sebelumnya, __koefisien__ dan __intercept__ dalam regresi linier sederhana, adalah parameter dari garis yang cocok dengan data.\n",
        "Mengingat bahwa ini adalah regresi linier sederhana, dengan hanya 2 parameter, dan mengetahui bahwa parameternya adalah intercept dan kemiringan atau gradien garis (koefisien), sklearn dapat memperkirakannya langsung dari data.\n",
        "Perhatikan bahwa semua data harus tersedia untuk menghitung parameter.\n"
      ]
    },
    {
      "cell_type": "markdown",
      "metadata": {
        "button": false,
        "new_sheet": false,
        "run_control": {
          "read_only": false
        },
        "id": "xhTCu_x9jqcr"
      },
      "source": [
        "#### Plot output model"
      ]
    },
    {
      "cell_type": "markdown",
      "metadata": {
        "id": "O3-B-evCjqcr"
      },
      "source": [
        "Plotting garis yang mencocoki terhadap data:"
      ]
    },
    {
      "cell_type": "code",
      "execution_count": null,
      "metadata": {
        "button": false,
        "new_sheet": false,
        "run_control": {
          "read_only": false
        },
        "outputId": "1c836fab-3aaf-4fc7-c98f-e0df85ac7dd2",
        "colab": {
          "base_uri": "https://localhost:8080/"
        },
        "id": "0fcLZp4kjqcr"
      },
      "outputs": [
        {
          "output_type": "execute_result",
          "data": {
            "text/plain": [
              "Text(0, 0.5, 'charges')"
            ]
          },
          "metadata": {},
          "execution_count": 142
        },
        {
          "output_type": "display_data",
          "data": {
            "text/plain": [
              "<Figure size 432x288 with 1 Axes>"
            ],
            "image/png": "[encoded data removed]"
          },
          "metadata": {
            "needs_background": "light"
          }
        }
      ],
      "source": [
        "plt.scatter(train.children, train.charges,  color='blue')\n",
        "plt.plot(train_x, regr.coef_[0][0]*train_x + regr.intercept_[0], '-r')\n",
        "plt.xlabel(\"children\")\n",
        "plt.ylabel(\"charges\")\n"
      ]
    },
    {
      "cell_type": "markdown",
      "metadata": {
        "button": false,
        "new_sheet": false,
        "run_control": {
          "read_only": false
        },
        "id": "YZGITckEjqcs"
      },
      "source": [
        "#### Evaluasi\n",
        "Nilai aktual dan nilai prediksi dapat dibandingkan untuk menghitung akurasi dari model regresi. Metrik evaluasi sangat penting untuk pengembangan model karena memberikan pengetahuan untuk perbaikan model.\n",
        "\n",
        "Ada berbagai metrik untuk evaluasi model, misalnya MSE sebagai error untuk mengetahui akurasi dari model yang dibangun yang dihitung dari MSE model terhadap data pengujian: \n",
        "    - Mean Absolute Error (MAE): Rerata dari nilai absolut dari error. MAE adalah metrik paling mudah dipahami karena hanya rata-rata dari error.\n",
        "    - Mean Squared Error (MSE): adalah rerata dari error dikuadratkan. MSE lebih populer dibanding MAE karena fokus pada error yang besar karena dikuadratkan sehingga berdampak lebih besar terhadap error yang lebih besar dibandingkan error yang lebih kecil.\n",
        "    - Root Mean Squared Error (RMSE).\n",
        "    - R-squared bukan error namun metrik yang populer yang merepresentasikan sejauh mana data cocok dengan garis regresi yang didapatkan. Semakin besar R-squared akan semaki baik pencocokan garis terhadap data. Nilai terbaik adalah 1.0 dan dapat bernilai negatif.\n"
      ]
    },
    {
      "cell_type": "code",
      "execution_count": null,
      "metadata": {
        "button": false,
        "new_sheet": false,
        "run_control": {
          "read_only": false
        },
        "scrolled": true,
        "outputId": "3a78b675-c5e2-44ea-b897-14fa7277fa21",
        "colab": {
          "base_uri": "https://localhost:8080/"
        },
        "id": "1e_YK40Ijqcs"
      },
      "outputs": [
        {
          "output_type": "stream",
          "name": "stdout",
          "text": [
            "Mean absolute error: 9433.34\n",
            "Residual sum of squares (MSE): 165226360.62\n",
            "R2-score: -126.9\n"
          ]
        }
      ],
      "source": [
        "from sklearn.metrics import r2_score\n",
        "\n",
        "test_x = np.asanyarray(test[['children']])\n",
        "test_y = np.asanyarray(test[['charges']])\n",
        "test_y_ = regr.predict(test_x)\n",
        "\n",
        "print(\"Mean absolute error: %.2f\" % np.mean(np.absolute(test_y_ - test_y)))\n",
        "print(\"Residual sum of squares (MSE): %.2f\" % np.mean((test_y_ - test_y) ** 2))\n",
        "print(\"R2-score: %.1f\" % r2_score(test_y_ , test_y) )"
      ]
    },
    {
      "cell_type": "markdown",
      "metadata": {
        "button": false,
        "new_sheet": false,
        "run_control": {
          "read_only": false
        },
        "id": "5qrgGtu2gpfq"
      },
      "source": [
        "### Model Regresi Sederhana dari fitur \"bmi\"\n",
        "Regresi Linier cocok dengan model linier dengan koefisien B = (B1, ..., Bn) untuk meminimalkan 'jumlah kuadrat sisa (residu)' antara x bebas dalam kumpulan data, dan y tak bebas dengan pendekatan linier."
      ]
    },
    {
      "cell_type": "markdown",
      "metadata": {
        "button": false,
        "new_sheet": false,
        "run_control": {
          "read_only": false
        },
        "id": "Sk0a9dg4gpfs"
      },
      "source": [
        "#### Distribusi Data Pelatihan \n",
        "\n"
      ]
    },
    {
      "cell_type": "code",
      "execution_count": null,
      "metadata": {
        "button": false,
        "new_sheet": false,
        "run_control": {
          "read_only": false
        },
        "outputId": "7516cf13-7a85-4833-ded2-02b434fa1eab",
        "colab": {
          "base_uri": "https://localhost:8080/"
        },
        "id": "woxUcBBAgpft"
      },
      "outputs": [
        {
          "output_type": "display_data",
          "data": {
            "text/plain": [
              "<Figure size 432x288 with 1 Axes>"
            ],
            "image/png": "[encoded data removed]"
          },
          "metadata": {
            "needs_background": "light"
          }
        }
      ],
      "source": [
        "plt.scatter(train.bmi, train.charges,  color='blue')\n",
        "plt.xlabel(\"bmi\")\n",
        "plt.ylabel(\"charges\")\n",
        "plt.show()\n"
      ]
    },
    {
      "cell_type": "markdown",
      "metadata": {
        "button": false,
        "new_sheet": false,
        "run_control": {
          "read_only": false
        },
        "id": "7KTAb-Xxgpfu"
      },
      "source": [
        "#### Pemodelan\n",
        "Menggunakan sklearn package untuk memodelkan data."
      ]
    },
    {
      "cell_type": "code",
      "execution_count": null,
      "metadata": {
        "button": false,
        "new_sheet": false,
        "run_control": {
          "read_only": false
        },
        "outputId": "2fe8d909-cf3d-47f1-a10f-7fcc25e155a3",
        "colab": {
          "base_uri": "https://localhost:8080/"
        },
        "id": "TRfE8xfwgpfv"
      },
      "outputs": [
        {
          "output_type": "stream",
          "name": "stdout",
          "text": [
            "Coefficients:  [[375.34437225]]\n",
            "Intercept:  [1555.52113614]\n"
          ]
        }
      ],
      "source": [
        "from sklearn import linear_model\n",
        "regr = linear_model.LinearRegression()\n",
        "train_x = np.asanyarray(train[['bmi']]) #asanyarray mengambil array indeks dari data train\n",
        "train_y = np.asanyarray(train[['charges']])\n",
        "regr.fit (train_x, train_y)\n",
        "# The coefficients\n",
        "print ('Coefficients: ', regr.coef_)  #teta1\n",
        "print ('Intercept: ',regr.intercept_) #teta0\n"
      ]
    },
    {
      "cell_type": "markdown",
      "metadata": {
        "id": "viYzvgAxgpfx"
      },
      "source": [
        "Seperti disebutkan sebelumnya, __koefisien__ dan __intercept__ dalam regresi linier sederhana, adalah parameter dari garis yang cocok dengan data.\n",
        "Mengingat bahwa ini adalah regresi linier sederhana, dengan hanya 2 parameter, dan mengetahui bahwa parameternya adalah intercept dan kemiringan atau gradien garis (koefisien), sklearn dapat memperkirakannya langsung dari data.\n",
        "Perhatikan bahwa semua data harus tersedia untuk menghitung parameter.\n"
      ]
    },
    {
      "cell_type": "markdown",
      "metadata": {
        "button": false,
        "new_sheet": false,
        "run_control": {
          "read_only": false
        },
        "id": "Z1GLwZDbgpfy"
      },
      "source": [
        "#### Plot output model"
      ]
    },
    {
      "cell_type": "markdown",
      "metadata": {
        "id": "Tpr5EELNgpfz"
      },
      "source": [
        "Plotting garis yang mencocoki terhadap data:"
      ]
    },
    {
      "cell_type": "code",
      "execution_count": null,
      "metadata": {
        "button": false,
        "new_sheet": false,
        "run_control": {
          "read_only": false
        },
        "outputId": "a561519b-416c-474c-94d4-6368e495e708",
        "colab": {
          "base_uri": "https://localhost:8080/"
        },
        "id": "bLCu2hnqgpfz"
      },
      "outputs": [
        {
          "output_type": "execute_result",
          "data": {
            "text/plain": [
              "Text(0, 0.5, 'charges')"
            ]
          },
          "metadata": {},
          "execution_count": 146
        },
        {
          "output_type": "display_data",
          "data": {
            "text/plain": [
              "<Figure size 432x288 with 1 Axes>"
            ],
            "image/png": "[encoded data removed]"
          },
          "metadata": {
            "needs_background": "light"
          }
        }
      ],
      "source": [
        "plt.scatter(train.bmi, train.charges,  color='blue')\n",
        "plt.plot(train_x, regr.coef_[0][0]*train_x + regr.intercept_[0], '-r')\n",
        "plt.xlabel(\"bmi\")\n",
        "plt.ylabel(\"charges\")\n"
      ]
    },
    {
      "cell_type": "markdown",
      "metadata": {
        "button": false,
        "new_sheet": false,
        "run_control": {
          "read_only": false
        },
        "id": "o9pH2HXtgpf2"
      },
      "source": [
        "#### Evaluasi\n",
        "Nilai aktual dan nilai prediksi dapat dibandingkan untuk menghitung akurasi dari model regresi. Metrik evaluasi sangat penting untuk pengembangan model karena memberikan pengetahuan untuk perbaikan model.\n",
        "\n",
        "Ada berbagai metrik untuk evaluasi model, misalnya MSE sebagai error untuk mengetahui akurasi dari model yang dibangun yang dihitung dari MSE model terhadap data pengujian: \n",
        "    - Mean Absolute Error (MAE): Rerata dari nilai absolut dari error. MAE adalah metrik paling mudah dipahami karena hanya rata-rata dari error.\n",
        "    - Mean Squared Error (MSE): adalah rerata dari error dikuadratkan. MSE lebih populer dibanding MAE karena fokus pada error yang besar karena dikuadratkan sehingga berdampak lebih besar terhadap error yang lebih besar dibandingkan error yang lebih kecil.\n",
        "    - Root Mean Squared Error (RMSE).\n",
        "    - R-squared bukan error namun metrik yang populer yang merepresentasikan sejauh mana data cocok dengan garis regresi yang didapatkan. Semakin besar R-squared akan semaki baik pencocokan garis terhadap data. Nilai terbaik adalah 1.0 dan dapat bernilai negatif.\n"
      ]
    },
    {
      "cell_type": "code",
      "execution_count": null,
      "metadata": {
        "button": false,
        "new_sheet": false,
        "run_control": {
          "read_only": false
        },
        "scrolled": true,
        "outputId": "00c4b63e-908b-4578-f348-d91ff2b74964",
        "colab": {
          "base_uri": "https://localhost:8080/"
        },
        "id": "bUlpH8RFgpf3"
      },
      "outputs": [
        {
          "output_type": "stream",
          "name": "stdout",
          "text": [
            "Mean absolute error: 9351.48\n",
            "Residual sum of squares (MSE): 156571871.56\n",
            "R2-score: -33.0\n"
          ]
        }
      ],
      "source": [
        "from sklearn.metrics import r2_score\n",
        "\n",
        "test_x = np.asanyarray(test[['bmi']])\n",
        "test_y = np.asanyarray(test[['charges']])\n",
        "test_y_ = regr.predict(test_x)\n",
        "\n",
        "print(\"Mean absolute error: %.2f\" % np.mean(np.absolute(test_y_ - test_y)))\n",
        "print(\"Residual sum of squares (MSE): %.2f\" % np.mean((test_y_ - test_y) ** 2))\n",
        "print(\"R2-score: %.1f\" % r2_score(test_y_ , test_y) )"
      ]
    },
    {
      "cell_type": "markdown",
      "metadata": {
        "button": false,
        "new_sheet": false,
        "run_control": {
          "read_only": false
        },
        "id": "cNsCOIFYdikU"
      },
      "source": [
        "\n",
        "# (2.) Regresi linier variable jamak, bandingkan mse, mae, r2score dengan regresi linier sederhana"
      ]
    },
    {
      "cell_type": "markdown",
      "metadata": {
        "id": "8Y0QQ-gdlWsz"
      },
      "source": [
        "### Import packages yang diperlukan"
      ]
    },
    {
      "cell_type": "code",
      "execution_count": null,
      "metadata": {
        "id": "e24znp4hlWs0"
      },
      "outputs": [],
      "source": [
        "import matplotlib.pyplot as plt\n",
        "import pandas as pd\n",
        "import pylab as pl\n",
        "import numpy as np\n",
        "%matplotlib inline"
      ]
    },
    {
      "cell_type": "markdown",
      "metadata": {
        "id": "EGJLpNlDlWtA"
      },
      "source": [
        "#### Pembuatan dataset pelatihan dan pengujian\n",
        "Pemisahan data latih/uji melibatkan pemisahan dataset menjadi dataset pelatihan dan pengujian, yang saling eksklusif. Setelah itu, dataset pelatihan dapat digunakan untuk membuat model dan dataset pengujian untuk pengujian.\n",
        "Hal ini akan memberikan evaluasi yang lebih akurat pada akurasi out-of-sample karena dataset pengujian bukan merupakan bagian dari dataset yang telah digunakan untuk melatih data. Ini lebih realistis untuk masalah dunia nyata.\n",
        "\n",
        "Ini berarti bahwa hasil dari setiap titik data dalam kumpulan data ini diketahui, sehingga sangat bagus untuk data pengujian. Dataset pengujian belum digunakan untuk melatih model, sehingga model tidak memiliki pengetahuan tentang hasil dari data ini, sehingga dapat disebut pengujian di luar sampel.\n",
        "\n"
      ]
    },
    {
      "cell_type": "code",
      "execution_count": null,
      "metadata": {
        "id": "vN_JK83XlWtB"
      },
      "outputs": [],
      "source": [
        "msk = np.random.rand(len(df)) < 0.8\n",
        "train = cdf[msk]\n",
        "test = cdf[~msk]"
      ]
    },
    {
      "cell_type": "markdown",
      "metadata": {
        "id": "NYUIhWUxlWtB"
      },
      "source": [
        "### Model Regresi Variabel Jamak\n",
        "Regresi Linier cocok dengan model linier dengan koefisien B = (B1, ..., Bn) untuk meminimalkan 'jumlah kuadrat sisa (residu)' antara x bebas (X1, ..., Xn) dalam kumpulan data, dan y tak bebas dengan pendekatan linier."
      ]
    },
    {
      "cell_type": "markdown",
      "metadata": {
        "id": "51ZzP2KAGXU1"
      },
      "source": [
        "#### Pemodelan\n",
        "Menggunakan sklearn package untuk memodelkan data."
      ]
    },
    {
      "cell_type": "code",
      "execution_count": null,
      "metadata": {
        "colab": {
          "base_uri": "https://localhost:8080/"
        },
        "id": "GzwLT0XMGXU3",
        "outputId": "f689b1eb-ff5c-42ad-daa8-71da7164cf81"
      },
      "outputs": [
        {
          "output_type": "stream",
          "name": "stdout",
          "text": [
            "Coefficients:  [[235.78991517 383.63734667 576.69527339]]\n",
            "Intercept:  [-8203.87276393]\n"
          ]
        }
      ],
      "source": [
        "from sklearn import linear_model\n",
        "regr = linear_model.LinearRegression()\n",
        "train_x = np.asanyarray(train[['age','bmi','children']])\n",
        "train_y = np.asanyarray(train[['charges']])\n",
        "regr.fit (train_x, train_y)\n",
        "# The coefficients\n",
        "print ('Coefficients: ', regr.coef_)\n",
        "print ('Intercept: ',regr.intercept_)\n"
      ]
    },
    {
      "cell_type": "markdown",
      "metadata": {
        "id": "zzOWfCHdGXU7"
      },
      "source": [
        "Seperti disebutkan sebelumnya, __koefisien__ dan __intercept__ dalam regresi linier sederhana, adalah parameter dari garis yang cocok dengan data.\n",
        "Perhatikan bahwa semua data harus tersedia untuk menghitung parameter.\n"
      ]
    },
    {
      "cell_type": "markdown",
      "metadata": {
        "id": "JNun7eEtGXVE"
      },
      "source": [
        "#### Evaluasi\n",
        "Nilai aktual dan nilai prediksi dapat dibandingkan untuk menghitung akurasi dari model regresi. Metrik evaluasi sangat penting untuk pengembangan model karena memberikan pengetahuan untuk perbaikan model.\n",
        "\n",
        "Ada berbagai metrik untuk evaluasi model, misalnya MSE sebagai error untuk mengetahui akurasi dari model yang dibangun yang dihitung dari MSE model terhadap data pengujian: \n",
        "    - Mean Absolute Error (MAE): Rerata dari nilai absolut dari error. MAE adalah metrik paling mudah dipahami karena hanya rata-rata dari error.\n",
        "    - Mean Squared Error (MSE): adalah rerata dari error dikuadratkan. MSE lebih populer dibanding MAE karena fokus pada error yang besar karena dikuadratkan sehingga berdampak lebih besar terhadap error yang lebih besar dibandingkan error yang lebih kecil.\n",
        "    - Root Mean Squared Error (RMSE).\n",
        "    - R-squared bukan error namun metrik yang populer yang merepresentasikan sejauh mana data cocok dengan garis regresi yang didapatkan. Semakin besar R-squared akan semaki baik pencocokan garis terhadap data. Nilai terbaik adalah 1.0 dan dapat bernilai negatif.\n"
      ]
    },
    {
      "cell_type": "code",
      "execution_count": null,
      "metadata": {
        "colab": {
          "base_uri": "https://localhost:8080/"
        },
        "id": "CinerFdQGXVE",
        "outputId": "2e323060-1964-4a99-a4ce-a9ec867d73e9",
        "scrolled": true
      },
      "outputs": [
        {
          "output_type": "stream",
          "name": "stdout",
          "text": [
            "Mean absolute error: 9141.35\n",
            "Residual sum of squares (MSE): 123906273.24\n",
            "R2-score: -4.79\n"
          ]
        }
      ],
      "source": [
        "from sklearn.metrics import r2_score\n",
        "\n",
        "test_x = np.asanyarray(test[['age','bmi','children']])\n",
        "test_y = np.asanyarray(test[['charges']])\n",
        "test_y_ = regr.predict(test_x)\n",
        "\n",
        "print(\"Mean absolute error: %.2f\" % np.mean(np.absolute(test_y_ - test_y)))\n",
        "print(\"Residual sum of squares (MSE): %.2f\" % np.mean((test_y_ - test_y) ** 2))\n",
        "print(\"R2-score: %.2f\" % r2_score(test_y_ , test_y) )"
      ]
    },
    {
      "cell_type": "markdown",
      "metadata": {
        "button": false,
        "new_sheet": false,
        "run_control": {
          "read_only": false
        },
        "id": "yswF-eoIdlvg"
      },
      "source": [
        "\n",
        "# (3.) Regresi non linier SVR dan DTR sederhana bandingkan mse, mae, r2score untuk data masukan kolom age, bmi, dan children, dan bandingkan hasilnya dengan regresi linier"
      ]
    },
    {
      "cell_type": "markdown",
      "source": [
        "## Regresi non linier SVR Sederhana"
      ],
      "metadata": {
        "id": "I1-lryCL7_TM"
      }
    },
    {
      "cell_type": "markdown",
      "metadata": {
        "id": "eqd7fpy7ukjX"
      },
      "source": [
        "Mengimpor libraries yang diperlukan"
      ]
    },
    {
      "cell_type": "code",
      "execution_count": null,
      "metadata": {
        "id": "bBopQcGotMlP"
      },
      "outputs": [],
      "source": [
        "import numpy as np\n",
        "import matplotlib.pyplot as plt\n",
        "import pandas as pd\n",
        "import sklearn "
      ]
    },
    {
      "cell_type": "markdown",
      "metadata": {
        "button": false,
        "new_sheet": false,
        "run_control": {
          "read_only": false
        },
        "id": "UXcdc2js6oL-"
      },
      "source": [
        "#### Pembuatan dataset pelatihan dan pengujian (dengan 'age' sebagai variabel independen)\n",
        "Pemisahan data latih/uji melibatkan pemisahan dataset menjadi dataset pelatihan dan pengujian, yang saling eksklusif. Setelah itu, dataset pelatihan dapat digunakan untuk membuat model dan dataset pengujian untuk pengujian.\n",
        "Hal ini akan memberikan evaluasi yang lebih akurat pada akurasi out-of-sample karena dataset pengujian bukan merupakan bagian dari dataset yang telah digunakan untuk melatih data. Ini lebih realistis untuk masalah dunia nyata.\n",
        "\n",
        "Ini berarti bahwa hasil dari setiap titik data dalam kumpulan data ini diketahui, sehingga sangat bagus untuk data pengujian. Dataset pengujian belum digunakan untuk melatih model, sehingga model tidak memiliki pengetahuan tentang hasil dari data ini, sehingga dapat disebut pengujian di luar sampel.\n",
        "\n"
      ]
    },
    {
      "cell_type": "code",
      "execution_count": null,
      "metadata": {
        "id": "bpTHEJWywjdp"
      },
      "outputs": [],
      "source": [
        "# Mengambil \"age\" sebagai variabel independen (regressor)\n",
        "X = cdf.iloc[:, 0].values\n",
        "# Mengambil \"charges\" sebagai variabel dependen\n",
        "y = cdf.iloc[:, 3].values\n",
        "# Reshape data karena hanya menggunakan satu fitur \"age\"\n",
        "X = X.reshape(-1,1)\n",
        "# Reshape data karena hanya satu fitur\n",
        "y = y.reshape(-1,1)"
      ]
    },
    {
      "cell_type": "markdown",
      "metadata": {
        "id": "xwVVPHJYyOOw"
      },
      "source": [
        "Proses splitting dataset pelatihan dan pengujian"
      ]
    },
    {
      "cell_type": "code",
      "execution_count": null,
      "metadata": {
        "id": "0zUyJzHlxNgd"
      },
      "outputs": [],
      "source": [
        "# Splitting the dataset into the Training set and Test set\n",
        "from sklearn.model_selection import train_test_split\n",
        "X_train, X_test, y_train, y_test = train_test_split(X, y, test_size = 0.2, random_state = 0)"
      ]
    },
    {
      "cell_type": "markdown",
      "metadata": {
        "id": "eOV1onCWyXWq"
      },
      "source": [
        "Normalisasi atau scaling dataset"
      ]
    },
    {
      "cell_type": "code",
      "execution_count": null,
      "metadata": {
        "id": "0xblBvgryaD8"
      },
      "outputs": [],
      "source": [
        "# Feature Scaling\n",
        "# from sklearn.preprocessing import StandardScaler\n",
        "# sc_X = StandardScaler()\n",
        "# sc_y = StandardScaler()\n",
        "# X = sc_X.fit_transform(X_train)\n",
        "# y = sc_y.fit_transform(y_train)"
      ]
    },
    {
      "cell_type": "markdown",
      "metadata": {
        "id": "4g2GUsATzirU"
      },
      "source": [
        "Pembuatan Model"
      ]
    },
    {
      "cell_type": "code",
      "execution_count": null,
      "metadata": {
        "id": "oWDaHmzPzkCY",
        "outputId": "b1bf524e-23d2-4166-c878-b26bdc1f04d3",
        "colab": {
          "base_uri": "https://localhost:8080/"
        }
      },
      "outputs": [
        {
          "output_type": "stream",
          "name": "stdout",
          "text": [
            "Mean absolute error: 9546.26\n",
            "Residual sum of squares (MSE): 210363636.12\n",
            "R2-score: -11.75\n"
          ]
        },
        {
          "output_type": "stream",
          "name": "stderr",
          "text": [
            "/usr/local/lib/python3.7/dist-packages/sklearn/utils/validation.py:993: DataConversionWarning: A column-vector y was passed when a 1d array was expected. Please change the shape of y to (n_samples, ), for example using ravel().\n",
            "  y = column_or_1d(y, warn=True)\n"
          ]
        }
      ],
      "source": [
        "##################Pelatihan\n",
        "# Fitting SVR to the dataset\n",
        "from sklearn.svm import SVR\n",
        "regressor = SVR(kernel = 'linear')\n",
        "#linear = Linear Kernel\n",
        "regressor.fit(X_train, y_train)\n",
        "\n",
        "##################Pengujian\n",
        "from sklearn.metrics import r2_score\n",
        "test_y_ = regressor.predict(X_test)\n",
        "\n",
        "test_y=y_test;\n",
        "\n",
        "print(\"Mean absolute error: %.2f\" % np.mean(np.absolute(test_y_ - test_y)))\n",
        "print(\"Residual sum of squares (MSE): %.2f\" % np.mean((test_y_ - test_y) ** 2))\n",
        "print(\"R2-score: %.2f\" % r2_score(test_y_ , test_y) )\n",
        "\n"
      ]
    },
    {
      "cell_type": "markdown",
      "metadata": {
        "button": false,
        "new_sheet": false,
        "run_control": {
          "read_only": false
        },
        "id": "OrKW1p8o-7On"
      },
      "source": [
        "#### Pembuatan dataset pelatihan dan pengujian (dengan 'bmi' sebagai variabel independen)\n",
        "Pemisahan data latih/uji melibatkan pemisahan dataset menjadi dataset pelatihan dan pengujian, yang saling eksklusif. Setelah itu, dataset pelatihan dapat digunakan untuk membuat model dan dataset pengujian untuk pengujian.\n",
        "Hal ini akan memberikan evaluasi yang lebih akurat pada akurasi out-of-sample karena dataset pengujian bukan merupakan bagian dari dataset yang telah digunakan untuk melatih data. Ini lebih realistis untuk masalah dunia nyata.\n",
        "\n",
        "Ini berarti bahwa hasil dari setiap titik data dalam kumpulan data ini diketahui, sehingga sangat bagus untuk data pengujian. Dataset pengujian belum digunakan untuk melatih model, sehingga model tidak memiliki pengetahuan tentang hasil dari data ini, sehingga dapat disebut pengujian di luar sampel.\n",
        "\n"
      ]
    },
    {
      "cell_type": "code",
      "execution_count": null,
      "metadata": {
        "id": "TxfKxP3T-7Op"
      },
      "outputs": [],
      "source": [
        "# Mengambil \"bmi\" sebagai variabel independen (regressor)\n",
        "X = cdf.iloc[:, 1].values\n",
        "# Mengambil \"charges\" sebagai variabel dependen\n",
        "y = cdf.iloc[:, 3].values\n",
        "# Reshape data karena hanya menggunakan satu fitur \"bmi\"\n",
        "X = X.reshape(-1,1)\n",
        "# Reshape data karena hanya satu fitur\n",
        "y = y.reshape(-1,1)"
      ]
    },
    {
      "cell_type": "markdown",
      "metadata": {
        "id": "dEAIO6cj-7Or"
      },
      "source": [
        "Proses splitting dataset pelatihan dan pengujian"
      ]
    },
    {
      "cell_type": "code",
      "execution_count": null,
      "metadata": {
        "id": "AUvV9ABj-7Or"
      },
      "outputs": [],
      "source": [
        "# Splitting the dataset into the Training set and Test set\n",
        "from sklearn.model_selection import train_test_split\n",
        "X_train, X_test, y_train, y_test = train_test_split(X, y, test_size = 0.2, random_state = 0)"
      ]
    },
    {
      "cell_type": "markdown",
      "metadata": {
        "id": "A_6tw_d8-7Os"
      },
      "source": [
        "Normalisasi atau scaling dataset"
      ]
    },
    {
      "cell_type": "code",
      "execution_count": null,
      "metadata": {
        "id": "q8Q5TtMm-7Ot"
      },
      "outputs": [],
      "source": [
        "# Feature Scaling\n",
        "# from sklearn.preprocessing import StandardScaler\n",
        "# sc_X = StandardScaler()\n",
        "# sc_y = StandardScaler()\n",
        "# X = sc_X.fit_transform(X_train)\n",
        "# y = sc_y.fit_transform(y_train)"
      ]
    },
    {
      "cell_type": "markdown",
      "metadata": {
        "id": "g8q9NeKD-7Ou"
      },
      "source": [
        "Pembuatan Model"
      ]
    },
    {
      "cell_type": "code",
      "execution_count": null,
      "metadata": {
        "outputId": "4da624b0-e09e-48fa-fe05-41f015913ca9",
        "colab": {
          "base_uri": "https://localhost:8080/"
        },
        "id": "I4Vmlg8n-7Ov"
      },
      "outputs": [
        {
          "output_type": "stream",
          "name": "stdout",
          "text": [
            "Mean absolute error: 8629.53\n",
            "Residual sum of squares (MSE): 176498312.38\n",
            "R2-score: -639.77\n"
          ]
        },
        {
          "output_type": "stream",
          "name": "stderr",
          "text": [
            "/usr/local/lib/python3.7/dist-packages/sklearn/utils/validation.py:993: DataConversionWarning: A column-vector y was passed when a 1d array was expected. Please change the shape of y to (n_samples, ), for example using ravel().\n",
            "  y = column_or_1d(y, warn=True)\n"
          ]
        }
      ],
      "source": [
        "##################Pelatihan\n",
        "# Fitting SVR to the dataset\n",
        "from sklearn.svm import SVR\n",
        "regressor = SVR(kernel = 'linear')\n",
        "#linear = Linear Kernel\n",
        "regressor.fit(X_train, y_train)\n",
        "\n",
        "##################Pengujian\n",
        "from sklearn.metrics import r2_score\n",
        "test_y_ = regressor.predict(X_test)\n",
        "\n",
        "test_y=y_test;\n",
        "\n",
        "print(\"Mean absolute error: %.2f\" % np.mean(np.absolute(test_y_ - test_y)))\n",
        "print(\"Residual sum of squares (MSE): %.2f\" % np.mean((test_y_ - test_y) ** 2))\n",
        "print(\"R2-score: %.2f\" % r2_score(test_y_ , test_y) )\n",
        "\n"
      ]
    },
    {
      "cell_type": "markdown",
      "metadata": {
        "button": false,
        "new_sheet": false,
        "run_control": {
          "read_only": false
        },
        "id": "MqNSH9nQ_BS9"
      },
      "source": [
        "#### Pembuatan dataset pelatihan dan pengujian (dengan 'childern' sebagai variabel independen)\n",
        "Pemisahan data latih/uji melibatkan pemisahan dataset menjadi dataset pelatihan dan pengujian, yang saling eksklusif. Setelah itu, dataset pelatihan dapat digunakan untuk membuat model dan dataset pengujian untuk pengujian.\n",
        "Hal ini akan memberikan evaluasi yang lebih akurat pada akurasi out-of-sample karena dataset pengujian bukan merupakan bagian dari dataset yang telah digunakan untuk melatih data. Ini lebih realistis untuk masalah dunia nyata.\n",
        "\n",
        "Ini berarti bahwa hasil dari setiap titik data dalam kumpulan data ini diketahui, sehingga sangat bagus untuk data pengujian. Dataset pengujian belum digunakan untuk melatih model, sehingga model tidak memiliki pengetahuan tentang hasil dari data ini, sehingga dapat disebut pengujian di luar sampel.\n",
        "\n"
      ]
    },
    {
      "cell_type": "code",
      "execution_count": null,
      "metadata": {
        "id": "1ZOmOoLp_BS_"
      },
      "outputs": [],
      "source": [
        "# Mengambil \"childern\" sebagai variabel independen (regressor)\n",
        "X = cdf.iloc[:, 2].values\n",
        "# Mengambil \"charges\" sebagai variabel dependen\n",
        "y = cdf.iloc[:, 3].values\n",
        "# Reshape data karena hanya menggunakan satu fitur \"childern\"\n",
        "X = X.reshape(-1,1)\n",
        "# Reshape data karena hanya satu fitur\n",
        "y = y.reshape(-1,1)"
      ]
    },
    {
      "cell_type": "markdown",
      "metadata": {
        "id": "ecSUSj4B_BTA"
      },
      "source": [
        "Proses splitting dataset pelatihan dan pengujian"
      ]
    },
    {
      "cell_type": "code",
      "execution_count": null,
      "metadata": {
        "id": "TcIeUDOO_BTB"
      },
      "outputs": [],
      "source": [
        "# Splitting the dataset into the Training set and Test set\n",
        "from sklearn.model_selection import train_test_split\n",
        "X_train, X_test, y_train, y_test = train_test_split(X, y, test_size = 0.2, random_state = 0)"
      ]
    },
    {
      "cell_type": "markdown",
      "metadata": {
        "id": "-fm-Vjt0_BTC"
      },
      "source": [
        "Normalisasi atau scaling dataset"
      ]
    },
    {
      "cell_type": "code",
      "execution_count": null,
      "metadata": {
        "id": "9Kngspdb_BTD"
      },
      "outputs": [],
      "source": [
        "# Feature Scaling\n",
        "# from sklearn.preprocessing import StandardScaler\n",
        "# sc_X = StandardScaler()\n",
        "# sc_y = StandardScaler()\n",
        "# X = sc_X.fit_transform(X_train)\n",
        "# y = sc_y.fit_transform(y_train)"
      ]
    },
    {
      "cell_type": "markdown",
      "metadata": {
        "id": "O8Lr-WCQ_BTE"
      },
      "source": [
        "Pembuatan Model"
      ]
    },
    {
      "cell_type": "code",
      "execution_count": null,
      "metadata": {
        "outputId": "1c9c0e99-ee34-446e-a5f6-bb4cab08d4f0",
        "colab": {
          "base_uri": "https://localhost:8080/"
        },
        "id": "Tt6Fq1yr_BTF"
      },
      "outputs": [
        {
          "output_type": "stream",
          "name": "stdout",
          "text": [
            "Mean absolute error: 8615.69\n",
            "Residual sum of squares (MSE): 176119642.36\n",
            "R2-score: -67994.43\n"
          ]
        },
        {
          "output_type": "stream",
          "name": "stderr",
          "text": [
            "/usr/local/lib/python3.7/dist-packages/sklearn/utils/validation.py:993: DataConversionWarning: A column-vector y was passed when a 1d array was expected. Please change the shape of y to (n_samples, ), for example using ravel().\n",
            "  y = column_or_1d(y, warn=True)\n"
          ]
        }
      ],
      "source": [
        "##################Pelatihan\n",
        "# Fitting SVR to the dataset\n",
        "from sklearn.svm import SVR\n",
        "regressor = SVR(kernel = 'linear')\n",
        "#linear = Linear Kernel\n",
        "regressor.fit(X_train, y_train)\n",
        "\n",
        "##################Pengujian\n",
        "from sklearn.metrics import r2_score\n",
        "test_y_ = regressor.predict(X_test)\n",
        "\n",
        "test_y=y_test;\n",
        "\n",
        "print(\"Mean absolute error: %.2f\" % np.mean(np.absolute(test_y_ - test_y)))\n",
        "print(\"Residual sum of squares (MSE): %.2f\" % np.mean((test_y_ - test_y) ** 2))\n",
        "print(\"R2-score: %.2f\" % r2_score(test_y_ , test_y) )\n"
      ]
    },
    {
      "cell_type": "markdown",
      "source": [
        "## Regresi non linier DTR Sederhana"
      ],
      "metadata": {
        "id": "dKnw_vJN_1ST"
      }
    },
    {
      "cell_type": "code",
      "source": [
        "import numpy as np\n",
        "import matplotlib.pyplot as plt\n",
        "import pandas as pd\n",
        "import sklearn "
      ],
      "metadata": {
        "id": "LJfjkN5vAfsk"
      },
      "execution_count": null,
      "outputs": []
    },
    {
      "cell_type": "markdown",
      "metadata": {
        "button": false,
        "new_sheet": false,
        "run_control": {
          "read_only": false
        },
        "id": "hpaklCHLAxBR"
      },
      "source": [
        "##### Pembuatan dataset pelatihan dan pengujian (dengan 'age' sebagai variabel independen)\n",
        "Pemisahan data latih/uji melibatkan pemisahan dataset menjadi dataset pelatihan dan pengujian, yang saling eksklusif. Setelah itu, dataset pelatihan dapat digunakan untuk membuat model dan dataset pengujian untuk pengujian.\n",
        "Hal ini akan memberikan evaluasi yang lebih akurat pada akurasi out-of-sample karena dataset pengujian bukan merupakan bagian dari dataset yang telah digunakan untuk melatih data. Ini lebih realistis untuk masalah dunia nyata.\n",
        "\n",
        "Ini berarti bahwa hasil dari setiap titik data dalam kumpulan data ini diketahui, sehingga sangat bagus untuk data pengujian. Dataset pengujian belum digunakan untuk melatih model, sehingga model tidak memiliki pengetahuan tentang hasil dari data ini, sehingga dapat disebut pengujian di luar sampel.\n",
        "\n"
      ]
    },
    {
      "cell_type": "code",
      "execution_count": null,
      "metadata": {
        "id": "oJXLzEG-AxBT"
      },
      "outputs": [],
      "source": [
        "# Mengambil \"age\" sebagai variabel independen (regressor)\n",
        "X = cdf.iloc[:, 0].values\n",
        "# Mengambil \"charges\" sebagai variabel dependen\n",
        "y = cdf.iloc[:, 3].values\n",
        "# Reshape data karena hanya menggunakan satu fitur \"age\"\n",
        "X = X.reshape(-1,1)\n",
        "# Reshape data karena hanya satu fitur\n",
        "y = y.reshape(-1,1)"
      ]
    },
    {
      "cell_type": "markdown",
      "metadata": {
        "id": "va93gynxAxBT"
      },
      "source": [
        "Proses splitting dataset pelatihan dan pengujian"
      ]
    },
    {
      "cell_type": "code",
      "execution_count": null,
      "metadata": {
        "id": "Kr10MkuKAxBU"
      },
      "outputs": [],
      "source": [
        "# Splitting the dataset into the Training set and Test set\n",
        "from sklearn.model_selection import train_test_split\n",
        "X_train, X_test, y_train, y_test = train_test_split(X, y, test_size = 0.2, random_state = 0)"
      ]
    },
    {
      "cell_type": "markdown",
      "metadata": {
        "id": "s_NuemLiAxBV"
      },
      "source": [
        "Normalisasi atau scaling dataset"
      ]
    },
    {
      "cell_type": "code",
      "execution_count": null,
      "metadata": {
        "id": "Av6FX8fcAxBW"
      },
      "outputs": [],
      "source": [
        "# Feature Scaling\n",
        "# from sklearn.preprocessing import StandardScaler\n",
        "# sc_X = StandardScaler()\n",
        "# sc_y = StandardScaler()\n",
        "# X = sc_X.fit_transform(X)\n",
        "# y = sc_y.fit_transform(y)"
      ]
    },
    {
      "cell_type": "markdown",
      "metadata": {
        "id": "1E3V2CNJAxBX"
      },
      "source": [
        "Pembuatan Model"
      ]
    },
    {
      "cell_type": "code",
      "execution_count": null,
      "metadata": {
        "outputId": "8358fb33-8aba-4666-f73c-84a54c9fe8b4",
        "colab": {
          "base_uri": "https://localhost:8080/"
        },
        "id": "eV7kA3hWAxBY"
      },
      "outputs": [
        {
          "output_type": "stream",
          "name": "stdout",
          "text": [
            "Mean absolute error: 9986.06\n",
            "Residual sum of squares (MSE): 177035546.51\n",
            "R2-score: -6.99\n"
          ]
        }
      ],
      "source": [
        "# Fitting Decision Tree Regression to the dataset\n",
        "# Pelatihan\n",
        "from sklearn.tree import DecisionTreeRegressor\n",
        "regressor = DecisionTreeRegressor()\n",
        "regressor.fit(X_train, y_train)\n",
        "\n",
        "\n",
        "#Pengujian\n",
        "\n",
        "from sklearn.metrics import r2_score\n",
        "\n",
        "test_y_ = regressor.predict(X_test)\n",
        "\n",
        "print(\"Mean absolute error: %.2f\" % np.mean(np.absolute(test_y_ - y_test)))\n",
        "print(\"Residual sum of squares (MSE): %.2f\" % np.mean((test_y_ - y_test) ** 2))\n",
        "print(\"R2-score: %.2f\" % r2_score(test_y_ , y_test) )\n"
      ]
    },
    {
      "cell_type": "markdown",
      "metadata": {
        "button": false,
        "new_sheet": false,
        "run_control": {
          "read_only": false
        },
        "id": "NF1YxmIgBaqu"
      },
      "source": [
        "#### Pembuatan dataset pelatihan dan pengujian (dengan 'bmi' sebagai variabel independen)\n",
        "Pemisahan data latih/uji melibatkan pemisahan dataset menjadi dataset pelatihan dan pengujian, yang saling eksklusif. Setelah itu, dataset pelatihan dapat digunakan untuk membuat model dan dataset pengujian untuk pengujian.\n",
        "Hal ini akan memberikan evaluasi yang lebih akurat pada akurasi out-of-sample karena dataset pengujian bukan merupakan bagian dari dataset yang telah digunakan untuk melatih data. Ini lebih realistis untuk masalah dunia nyata.\n",
        "\n",
        "Ini berarti bahwa hasil dari setiap titik data dalam kumpulan data ini diketahui, sehingga sangat bagus untuk data pengujian. Dataset pengujian belum digunakan untuk melatih model, sehingga model tidak memiliki pengetahuan tentang hasil dari data ini, sehingga dapat disebut pengujian di luar sampel.\n",
        "\n"
      ]
    },
    {
      "cell_type": "code",
      "execution_count": null,
      "metadata": {
        "id": "s7Qp6SVmBaqx"
      },
      "outputs": [],
      "source": [
        "# Mengambil \"bmi\" sebagai variabel independen (regressor)\n",
        "X = cdf.iloc[:, 1].values\n",
        "# Mengambil \"charges\" sebagai variabel dependen\n",
        "y = cdf.iloc[:, 3].values\n",
        "# Reshape data karena hanya menggunakan satu fitur \"bmi\"\n",
        "X = X.reshape(-1,1)\n",
        "# Reshape data karena hanya satu fitur\n",
        "y = y.reshape(-1,1)"
      ]
    },
    {
      "cell_type": "markdown",
      "metadata": {
        "id": "BZNh06l_Baqy"
      },
      "source": [
        "Proses splitting dataset pelatihan dan pengujian"
      ]
    },
    {
      "cell_type": "code",
      "execution_count": null,
      "metadata": {
        "id": "1rOQJvnzBaqz"
      },
      "outputs": [],
      "source": [
        "# Splitting the dataset into the Training set and Test set\n",
        "from sklearn.model_selection import train_test_split\n",
        "X_train, X_test, y_train, y_test = train_test_split(X, y, test_size = 0.2, random_state = 0)"
      ]
    },
    {
      "cell_type": "markdown",
      "metadata": {
        "id": "txglID_-Baqz"
      },
      "source": [
        "Normalisasi atau scaling dataset"
      ]
    },
    {
      "cell_type": "code",
      "execution_count": null,
      "metadata": {
        "id": "hlfzgmbuBaq0"
      },
      "outputs": [],
      "source": [
        "# Feature Scaling\n",
        "# from sklearn.preprocessing import StandardScaler\n",
        "# sc_X = StandardScaler()\n",
        "# sc_y = StandardScaler()\n",
        "# X = sc_X.fit_transform(X)\n",
        "# y = sc_y.fit_transform(y)"
      ]
    },
    {
      "cell_type": "markdown",
      "metadata": {
        "id": "h1TtAgZ2Baq1"
      },
      "source": [
        "Pembuatan Model"
      ]
    },
    {
      "cell_type": "code",
      "execution_count": null,
      "metadata": {
        "outputId": "1cff3e34-c0ac-448a-e686-1326d8550c9d",
        "colab": {
          "base_uri": "https://localhost:8080/"
        },
        "id": "SBdoEwiABaq2"
      },
      "outputs": [
        {
          "output_type": "stream",
          "name": "stdout",
          "text": [
            "Mean absolute error: 11195.26\n",
            "Residual sum of squares (MSE): 241683700.09\n",
            "R2-score: -2.03\n"
          ]
        }
      ],
      "source": [
        "# Fitting Decision Tree Regression to the dataset\n",
        "# Pelatihan\n",
        "from sklearn.tree import DecisionTreeRegressor\n",
        "regressor = DecisionTreeRegressor()\n",
        "regressor.fit(X_train, y_train)\n",
        "\n",
        "\n",
        "#Pengujian\n",
        "\n",
        "from sklearn.metrics import r2_score\n",
        "\n",
        "test_y_ = regressor.predict(X_test)\n",
        "\n",
        "print(\"Mean absolute error: %.2f\" % np.mean(np.absolute(test_y_ - y_test)))\n",
        "print(\"Residual sum of squares (MSE): %.2f\" % np.mean((test_y_ - y_test) ** 2))\n",
        "print(\"R2-score: %.2f\" % r2_score(test_y_ , y_test) )\n"
      ]
    },
    {
      "cell_type": "markdown",
      "metadata": {
        "button": false,
        "new_sheet": false,
        "run_control": {
          "read_only": false
        },
        "id": "d8lm-u3LBchE"
      },
      "source": [
        "#### Pembuatan dataset pelatihan dan pengujian (dengan 'childern' sebagai variabel independen)\n",
        "Pemisahan data latih/uji melibatkan pemisahan dataset menjadi dataset pelatihan dan pengujian, yang saling eksklusif. Setelah itu, dataset pelatihan dapat digunakan untuk membuat model dan dataset pengujian untuk pengujian.\n",
        "Hal ini akan memberikan evaluasi yang lebih akurat pada akurasi out-of-sample karena dataset pengujian bukan merupakan bagian dari dataset yang telah digunakan untuk melatih data. Ini lebih realistis untuk masalah dunia nyata.\n",
        "\n",
        "Ini berarti bahwa hasil dari setiap titik data dalam kumpulan data ini diketahui, sehingga sangat bagus untuk data pengujian. Dataset pengujian belum digunakan untuk melatih model, sehingga model tidak memiliki pengetahuan tentang hasil dari data ini, sehingga dapat disebut pengujian di luar sampel.\n",
        "\n"
      ]
    },
    {
      "cell_type": "code",
      "execution_count": null,
      "metadata": {
        "id": "NsbFbgtJBchF"
      },
      "outputs": [],
      "source": [
        "# Mengambil \"childern\" sebagai variabel independen (regressor)\n",
        "X = cdf.iloc[:, 0].values\n",
        "# Mengambil \"charges\" sebagai variabel dependen\n",
        "y = cdf.iloc[:, 3].values\n",
        "# Reshape data karena hanya menggunakan satu fitur \"childern\"\n",
        "X = X.reshape(-1,1)\n",
        "# Reshape data karena hanya satu fitur\n",
        "y = y.reshape(-1,1)"
      ]
    },
    {
      "cell_type": "markdown",
      "metadata": {
        "id": "uatG6y0VBchG"
      },
      "source": [
        "Proses splitting dataset pelatihan dan pengujian"
      ]
    },
    {
      "cell_type": "code",
      "execution_count": null,
      "metadata": {
        "id": "B1uvwIufBchH"
      },
      "outputs": [],
      "source": [
        "# Splitting the dataset into the Training set and Test set\n",
        "from sklearn.model_selection import train_test_split\n",
        "X_train, X_test, y_train, y_test = train_test_split(X, y, test_size = 0.2, random_state = 0)"
      ]
    },
    {
      "cell_type": "markdown",
      "metadata": {
        "id": "fHS7yoJ4BchJ"
      },
      "source": [
        "Normalisasi atau scaling dataset"
      ]
    },
    {
      "cell_type": "code",
      "execution_count": null,
      "metadata": {
        "id": "UpJrAM6UBchJ"
      },
      "outputs": [],
      "source": [
        "# Feature Scaling\n",
        "# from sklearn.preprocessing import StandardScaler\n",
        "# sc_X = StandardScaler()\n",
        "# sc_y = StandardScaler()\n",
        "# X = sc_X.fit_transform(X)\n",
        "# y = sc_y.fit_transform(y)"
      ]
    },
    {
      "cell_type": "markdown",
      "metadata": {
        "id": "E63HIj8xBchL"
      },
      "source": [
        "Pembuatan Model"
      ]
    },
    {
      "cell_type": "code",
      "execution_count": null,
      "metadata": {
        "outputId": "30a11437-6171-4b91-846e-dce0e508d87e",
        "colab": {
          "base_uri": "https://localhost:8080/"
        },
        "id": "FrJlqzh8BchM"
      },
      "outputs": [
        {
          "output_type": "stream",
          "name": "stdout",
          "text": [
            "Mean absolute error: 9986.06\n",
            "Residual sum of squares (MSE): 177035546.51\n",
            "R2-score: -6.99\n"
          ]
        }
      ],
      "source": [
        "# Fitting Decision Tree Regression to the dataset\n",
        "# Pelatihan\n",
        "from sklearn.tree import DecisionTreeRegressor\n",
        "regressor = DecisionTreeRegressor()\n",
        "regressor.fit(X_train, y_train)\n",
        "\n",
        "\n",
        "#Pengujian\n",
        "\n",
        "from sklearn.metrics import r2_score\n",
        "\n",
        "test_y_ = regressor.predict(X_test)\n",
        "\n",
        "print(\"Mean absolute error: %.2f\" % np.mean(np.absolute(test_y_ - y_test)))\n",
        "print(\"Residual sum of squares (MSE): %.2f\" % np.mean((test_y_ - y_test) ** 2))\n",
        "print(\"R2-score: %.2f\" % r2_score(test_y_ , y_test) )\n"
      ]
    },
    {
      "cell_type": "markdown",
      "metadata": {
        "button": false,
        "new_sheet": false,
        "run_control": {
          "read_only": false
        },
        "id": "yszpYLjqdoXd"
      },
      "source": [
        "\n",
        "# (4.) Regresi non linier SVR dan DTR variable jamak bandingkan mse, mae, r2score untuk data masukan kolom age, bmi, dan children, dan bandingkan hasilnya dengan regresi linier"
      ]
    },
    {
      "cell_type": "markdown",
      "source": [
        "## Regresi non linier SVR Jamak"
      ],
      "metadata": {
        "id": "R8dgIjCB-TfF"
      }
    },
    {
      "cell_type": "markdown",
      "metadata": {
        "id": "NHjqiT4I0B_M"
      },
      "source": [
        "##### Pembuatan dataset pelatihan dan pengujian Variabel Jamak"
      ]
    },
    {
      "cell_type": "code",
      "execution_count": null,
      "metadata": {
        "id": "sIk0hYhj0GXc",
        "outputId": "34a6b82b-c50f-4181-b499-cddc0ef8e648",
        "colab": {
          "base_uri": "https://localhost:8080/"
        }
      },
      "outputs": [
        {
          "output_type": "stream",
          "name": "stdout",
          "text": [
            "Mean absolute error: 9535.53\n",
            "Residual sum of squares (MSE): 209730650.34\n",
            "R2-score: -11.80\n"
          ]
        },
        {
          "output_type": "stream",
          "name": "stderr",
          "text": [
            "/usr/local/lib/python3.7/dist-packages/sklearn/utils/validation.py:993: DataConversionWarning: A column-vector y was passed when a 1d array was expected. Please change the shape of y to (n_samples, ), for example using ravel().\n",
            "  y = column_or_1d(y, warn=True)\n"
          ]
        }
      ],
      "source": [
        "# Mengambil \"age, bmi, childern\" sebagai variabel independen (regressor)\n",
        "X = cdf.iloc[:, 0:3].values\n",
        "# Mengambil \"charges\" sebagai variabel dependen\n",
        "y = cdf.iloc[:, 3].values\n",
        "# Reshape data karena hanya menggunakan satu fitur \"Engine Size\"\n",
        "# X = X.reshape(-1,1)\n",
        "# Reshape data karena hanya satu fitur\n",
        "y = y.reshape(-1,1)\n",
        "\n",
        "# Splitting the dataset into the Training set and Test set\n",
        "from sklearn.model_selection import train_test_split\n",
        "X_train, X_test, y_train, y_test = train_test_split(X, y, test_size = 0.2, random_state = 0)\n",
        "\n",
        "##################Pelatihan\n",
        "# Fitting SVR to the dataset\n",
        "from sklearn.svm import SVR\n",
        "regressor = SVR(kernel = 'linear')\n",
        "#linear = Linear Kernel\n",
        "regressor.fit(X_train, y_train)\n",
        "\n",
        "##################Pengujian\n",
        "from sklearn.metrics import r2_score\n",
        "test_y_ = regressor.predict(X_test)\n",
        "\n",
        "test_y=y_test;\n",
        "\n",
        "print(\"Mean absolute error: %.2f\" % np.mean(np.absolute(test_y_ - test_y)))\n",
        "print(\"Residual sum of squares (MSE): %.2f\" % np.mean((test_y_ - test_y) ** 2))\n",
        "print(\"R2-score: %.2f\" % r2_score(test_y_ , test_y) )\n",
        "\n",
        "\n"
      ]
    },
    {
      "cell_type": "markdown",
      "source": [
        "## Regresi non linier DTR Jamak"
      ],
      "metadata": {
        "id": "WII5IcjeBJKv"
      }
    },
    {
      "cell_type": "markdown",
      "metadata": {
        "id": "VzBv2ku2BOKv"
      },
      "source": [
        "##### Pembuatan dataset pelatihan dan pengujian Variabel Jamak"
      ]
    },
    {
      "cell_type": "code",
      "execution_count": null,
      "metadata": {
        "outputId": "ad44f420-03eb-4ae9-dbef-d4acfc4827e6",
        "colab": {
          "base_uri": "https://localhost:8080/"
        },
        "id": "Tw-pCHr5BOKx"
      },
      "outputs": [
        {
          "output_type": "stream",
          "name": "stdout",
          "text": [
            "Mean absolute error: 13115.86\n",
            "Residual sum of squares (MSE): 330964464.38\n",
            "R2-score: -0.36\n"
          ]
        }
      ],
      "source": [
        "# Mengambil \"age, bmi, childern\" sebagai variabel independen (regressor)\n",
        "X = cdf.iloc[:, 0:3].values\n",
        "# Mengambil \"Emission\" sebagai variabel dependen\n",
        "y = cdf.iloc[:, 3].values\n",
        "# Reshape data karena hanya menggunakan satu fitur \"age, bmi, childern\"\n",
        "# X = X.reshape(-1,1) #karena X sudah menjadi matriks kolom (3 kolom)\n",
        "# Reshape data karena hanya satu fitur\n",
        "y = y.reshape(-1,1)\n",
        "\n",
        "# Splitting the dataset into the Training set and Test set\n",
        "from sklearn.model_selection import train_test_split\n",
        "X_train, X_test, y_train, y_test = train_test_split(X, y, test_size = 0.2, random_state = 0)\n",
        "\n",
        "\n",
        "# Fitting Decision Tree Regression to the dataset\n",
        "# Pelatihan\n",
        "from sklearn.tree import DecisionTreeRegressor\n",
        "regressor = DecisionTreeRegressor()\n",
        "regressor.fit(X_train, y_train)\n",
        "\n",
        "\n",
        "#Pengujian\n",
        "from sklearn.metrics import r2_score\n",
        "test_y_ = regressor.predict(X_test)\n",
        "\n",
        "#Perhitungan Akurasi\n",
        "print(\"Mean absolute error: %.2f\" % np.mean(np.absolute(test_y_ - y_test)))\n",
        "print(\"Residual sum of squares (MSE): %.2f\" % np.mean((test_y_ - y_test) ** 2))\n",
        "print(\"R2-score: %.2f\" % r2_score(test_y_ , y_test) )\n"
      ]
    }
  ],
  "metadata": {
    "colab": {
      "provenance": [],
      "toc_visible": true
    },
    "kernelspec": {
      "display_name": "Python 3",
      "language": "python",
      "name": "python3"
    },
    "language_info": {
      "codemirror_mode": {
        "name": "ipython",
        "version": 3
      },
      "file_extension": ".py",
      "mimetype": "text/x-python",
      "name": "python",
      "nbconvert_exporter": "python",
      "pygments_lexer": "ipython3",
      "version": "3.8.8"
    }
  },
  "nbformat": 4,
  "nbformat_minor": 0
}