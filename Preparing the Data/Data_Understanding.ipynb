{
 "cells": [
  {
   "cell_type": "code",
   "execution_count": 14,
   "id": "bfc2806d",
   "metadata": {},
   "outputs": [],
   "source": [
    "import pandas as pd\n",
    "import numpy as np\n",
    "file='epl-goalScorer(20-21).csv'\n",
    "isifile=pd.read_csv(file)"
   ]
  },
  {
   "cell_type": "code",
   "execution_count": 15,
   "id": "783438e5",
   "metadata": {},
   "outputs": [
    {
     "data": {
      "text/plain": [
       "<bound method NDFrame.head of      Unnamed: 0    id             player_name  games  time  goals         xG  \\\n",
       "0             0   647              Harry Kane     35  3097     23  22.174859   \n",
       "1             1  1250           Mohamed Salah     37  3085     22  20.250847   \n",
       "2             2  1228         Bruno Fernandes     37  3117     18  16.019454   \n",
       "3             3   453           Son Heung-Min     37  3139     17  11.023287   \n",
       "4             4   822         Patrick Bamford     38  3085     17  18.401863   \n",
       "..          ...   ...                     ...    ...   ...    ...        ...   \n",
       "517         517  9415  Jaden Philogene-Bidace      1     1      0   0.000000   \n",
       "518         518  9423         Gaetano Berardi      2   113      0   0.074761   \n",
       "519         519  9524          Anthony Elanga      1    67      0   0.000000   \n",
       "520         520  9540             Femi Seriki      1     1      0   0.000000   \n",
       "521         521  9552         Tyrese Francois      1    13      0   0.000000   \n",
       "\n",
       "     assists         xA  shots  key_passes  yellow_cards  red_cards position  \\\n",
       "0         14   7.577094    138          49             1          0        F   \n",
       "1          5   6.528526    126          55             0          0    F M S   \n",
       "2         12  11.474996    121          95             6          0      M S   \n",
       "3         10   9.512992     68          75             0          0    F M S   \n",
       "4          7   3.782247    107          30             3          0      F S   \n",
       "..       ...        ...    ...         ...           ...        ...      ...   \n",
       "517        0   0.000000      0           0             0          0        S   \n",
       "518        0   0.000000      1           0             0          0      D S   \n",
       "519        0   0.000000      0           0             0          0        M   \n",
       "520        0   0.000000      0           0             0          0        S   \n",
       "521        0   0.000000      0           0             0          0        S   \n",
       "\n",
       "            team_title  npg       npxG    xGChain  xGBuildup  \n",
       "0            Tottenham   19  19.130183  24.995648   4.451257  \n",
       "1            Liverpool   16  15.683834  28.968234   9.800236  \n",
       "2    Manchester United    9   8.407840  26.911412  11.932285  \n",
       "3            Tottenham   16  10.262118  20.671916   6.608751  \n",
       "4                Leeds   15  16.879525  23.394953   4.131796  \n",
       "..                 ...  ...        ...        ...        ...  \n",
       "517        Aston Villa    0   0.000000   0.056044   0.056044  \n",
       "518              Leeds    0   0.074761   0.231278   0.231278  \n",
       "519  Manchester United    0   0.000000   0.000000   0.000000  \n",
       "520   Sheffield United    0   0.000000   0.000000   0.000000  \n",
       "521             Fulham    0   0.000000   0.000000   0.000000  \n",
       "\n",
       "[522 rows x 19 columns]>"
      ]
     },
     "execution_count": 15,
     "metadata": {},
     "output_type": "execute_result"
    }
   ],
   "source": [
    "isifile.head"
   ]
  },
  {
   "cell_type": "code",
   "execution_count": 16,
   "id": "2abd0cf3",
   "metadata": {},
   "outputs": [
    {
     "name": "stdout",
     "output_type": "stream",
     "text": [
      "Unnamed: 0        int64\n",
      "id                int64\n",
      "player_name      object\n",
      "games             int64\n",
      "time              int64\n",
      "goals             int64\n",
      "xG              float64\n",
      "assists           int64\n",
      "xA              float64\n",
      "shots             int64\n",
      "key_passes        int64\n",
      "yellow_cards      int64\n",
      "red_cards         int64\n",
      "position         object\n",
      "team_title       object\n",
      "npg               int64\n",
      "npxG            float64\n",
      "xGChain         float64\n",
      "xGBuildup       float64\n",
      "dtype: object\n"
     ]
    }
   ],
   "source": [
    "print(isifile.dtypes)"
   ]
  },
  {
   "cell_type": "code",
   "execution_count": 17,
   "id": "c4195094",
   "metadata": {},
   "outputs": [],
   "source": [
    "import pandas as pd\n",
    "import numpy as np\n",
    "file='epl-goalScorer(20-21).csv'\n",
    "isifile=pd.read_csv(file)\n",
    "df_noid=isifile.iloc[:,2:]"
   ]
  },
  {
   "cell_type": "code",
   "execution_count": 45,
   "id": "00f3df53",
   "metadata": {},
   "outputs": [
    {
     "data": {
      "text/plain": [
       "team_title\n",
       "Arsenal,Newcastle United    8.000000\n",
       "Manchester City             3.208333\n",
       "Aston Villa,Chelsea         3.000000\n",
       "Liverpool,Southampton       3.000000\n",
       "Everton,Southampton         3.000000\n",
       "Name: goals, dtype: float64"
      ]
     },
     "execution_count": 45,
     "metadata": {},
     "output_type": "execute_result"
    }
   ],
   "source": [
    "df_noid\n",
    "df_noid.groupby('team_title').mean()\n",
    "\n",
    "df_noid.groupby('team_title').mean().sort_values(by='goals',ascending='true')\n",
    "df1=df_noid.groupby('team_title')['goals'].mean()\n",
    "df1.sort_index()\n",
    "df2=df1.sort_values(ascending=False)\n",
    "df2.head()\n",
    "\n"
   ]
  },
  {
   "cell_type": "code",
   "execution_count": 19,
   "id": "fa6d050a",
   "metadata": {},
   "outputs": [
    {
     "data": {
      "text/plain": [
       "0      23\n",
       "1      22\n",
       "2      18\n",
       "3      17\n",
       "4      17\n",
       "       ..\n",
       "517     0\n",
       "518     0\n",
       "519     0\n",
       "520     0\n",
       "521     0\n",
       "Name: goals, Length: 522, dtype: int64"
      ]
     },
     "execution_count": 19,
     "metadata": {},
     "output_type": "execute_result"
    }
   ],
   "source": [
    "q1=df_noid['goals'].quantile(0.25)\n",
    "q3=df_noid['goals'].quantile(0.75)\n",
    "iqr=q3-q1\n",
    "iqr\n",
    "df_noid['goals']"
   ]
  },
  {
   "cell_type": "code",
   "execution_count": 20,
   "id": "86020bf7",
   "metadata": {},
   "outputs": [
    {
     "data": {
      "text/html": [
       "<div>\n",
       "<style scoped>\n",
       "    .dataframe tbody tr th:only-of-type {\n",
       "        vertical-align: middle;\n",
       "    }\n",
       "\n",
       "    .dataframe tbody tr th {\n",
       "        vertical-align: top;\n",
       "    }\n",
       "\n",
       "    .dataframe thead th {\n",
       "        text-align: right;\n",
       "    }\n",
       "</style>\n",
       "<table border=\"1\" class=\"dataframe\">\n",
       "  <thead>\n",
       "    <tr style=\"text-align: right;\">\n",
       "      <th></th>\n",
       "      <th>player_name</th>\n",
       "      <th>goals</th>\n",
       "      <th>is_outlier</th>\n",
       "      <th>is_extreme_outlier</th>\n",
       "    </tr>\n",
       "  </thead>\n",
       "  <tbody>\n",
       "    <tr>\n",
       "      <th>0</th>\n",
       "      <td>Harry Kane</td>\n",
       "      <td>23</td>\n",
       "      <td>True</td>\n",
       "      <td>False</td>\n",
       "    </tr>\n",
       "    <tr>\n",
       "      <th>1</th>\n",
       "      <td>Mohamed Salah</td>\n",
       "      <td>22</td>\n",
       "      <td>True</td>\n",
       "      <td>False</td>\n",
       "    </tr>\n",
       "    <tr>\n",
       "      <th>2</th>\n",
       "      <td>Bruno Fernandes</td>\n",
       "      <td>18</td>\n",
       "      <td>True</td>\n",
       "      <td>False</td>\n",
       "    </tr>\n",
       "    <tr>\n",
       "      <th>3</th>\n",
       "      <td>Son Heung-Min</td>\n",
       "      <td>17</td>\n",
       "      <td>True</td>\n",
       "      <td>False</td>\n",
       "    </tr>\n",
       "    <tr>\n",
       "      <th>4</th>\n",
       "      <td>Patrick Bamford</td>\n",
       "      <td>17</td>\n",
       "      <td>True</td>\n",
       "      <td>False</td>\n",
       "    </tr>\n",
       "    <tr>\n",
       "      <th>...</th>\n",
       "      <td>...</td>\n",
       "      <td>...</td>\n",
       "      <td>...</td>\n",
       "      <td>...</td>\n",
       "    </tr>\n",
       "    <tr>\n",
       "      <th>517</th>\n",
       "      <td>Jaden Philogene-Bidace</td>\n",
       "      <td>0</td>\n",
       "      <td>False</td>\n",
       "      <td>True</td>\n",
       "    </tr>\n",
       "    <tr>\n",
       "      <th>518</th>\n",
       "      <td>Gaetano Berardi</td>\n",
       "      <td>0</td>\n",
       "      <td>False</td>\n",
       "      <td>True</td>\n",
       "    </tr>\n",
       "    <tr>\n",
       "      <th>519</th>\n",
       "      <td>Anthony Elanga</td>\n",
       "      <td>0</td>\n",
       "      <td>False</td>\n",
       "      <td>True</td>\n",
       "    </tr>\n",
       "    <tr>\n",
       "      <th>520</th>\n",
       "      <td>Femi Seriki</td>\n",
       "      <td>0</td>\n",
       "      <td>False</td>\n",
       "      <td>True</td>\n",
       "    </tr>\n",
       "    <tr>\n",
       "      <th>521</th>\n",
       "      <td>Tyrese Francois</td>\n",
       "      <td>0</td>\n",
       "      <td>False</td>\n",
       "      <td>True</td>\n",
       "    </tr>\n",
       "  </tbody>\n",
       "</table>\n",
       "<p>522 rows × 4 columns</p>\n",
       "</div>"
      ],
      "text/plain": [
       "                player_name  goals  is_outlier  is_extreme_outlier\n",
       "0                Harry Kane     23        True               False\n",
       "1             Mohamed Salah     22        True               False\n",
       "2           Bruno Fernandes     18        True               False\n",
       "3             Son Heung-Min     17        True               False\n",
       "4           Patrick Bamford     17        True               False\n",
       "..                      ...    ...         ...                 ...\n",
       "517  Jaden Philogene-Bidace      0       False                True\n",
       "518         Gaetano Berardi      0       False                True\n",
       "519          Anthony Elanga      0       False                True\n",
       "520             Femi Seriki      0       False                True\n",
       "521         Tyrese Francois      0       False                True\n",
       "\n",
       "[522 rows x 4 columns]"
      ]
     },
     "execution_count": 20,
     "metadata": {},
     "output_type": "execute_result"
    }
   ],
   "source": [
    "iso=(df_noid['goals']<q1-1.5*iqr)|(df_noid['goals']>q3+1.5*iqr)\n",
    "iseo=(df_noid['goals']<q1-3*iqr)|(df_noid['goals']<q3+3*iqr)\n",
    "df1=df_noid[['player_name','goals']].assign(is_outlier=iso,is_extreme_outlier=iseo)\n",
    "df1.loc[df1['is_outlier'] | df1['is_extreme_outlier']]\n",
    "\n"
   ]
  }
 ],
 "metadata": {
  "kernelspec": {
   "display_name": "Python 3",
   "language": "python",
   "name": "python3"
  },
  "language_info": {
   "codemirror_mode": {
    "name": "ipython",
    "version": 3
   },
   "file_extension": ".py",
   "mimetype": "text/x-python",
   "name": "python",
   "nbconvert_exporter": "python",
   "pygments_lexer": "ipython3",
   "version": "3.8.8"
  }
 },
 "nbformat": 4,
 "nbformat_minor": 5
}
