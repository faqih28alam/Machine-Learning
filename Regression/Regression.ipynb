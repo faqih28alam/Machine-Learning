{
  "nbformat": 4,
  "nbformat_minor": 0,
  "metadata": {
    "colab": {
      "provenance": []
    },
    "kernelspec": {
      "name": "python3",
      "display_name": "Python 3"
    },
    "language_info": {
      "name": "python"
    }
  },
  "cells": [
    {
      "cell_type": "code",
      "source": [
        "#Nama: Faqih Alam\n",
        "#NIM: 2101221047\n",
        "#P= (2+1+0+1+2+2+1+0+4+7)x20 = 400"
      ],
      "metadata": {
        "id": "MVWHWjHeKblD"
      },
      "execution_count": 81,
      "outputs": []
    },
    {
      "cell_type": "markdown",
      "source": [
        "#A"
      ],
      "metadata": {
        "id": "ntbMitgzS9aK"
      }
    },
    {
      "cell_type": "code",
      "execution_count": 82,
      "metadata": {
        "colab": {
          "base_uri": "https://localhost:8080/"
        },
        "id": "iEQGz3e4JOuw",
        "outputId": "c1157787-1e5e-4e5e-f778-65e8705c5a4e"
      },
      "outputs": [
        {
          "output_type": "stream",
          "name": "stdout",
          "text": [
            "Germany\n"
          ]
        }
      ],
      "source": [
        "import pandas as pd\n",
        "import numpy as np\n",
        "file='/content/drive/MyDrive/Colab Notebooks/UTS SLO/Life Expectancy Data.csv'\n",
        "X=pd.read_csv(file)\n",
        "from sklearn.model_selection import train_test_split\n",
        "X1, X2= train_test_split(X, test_size = 0.5, random_state = 400)\n",
        "XXX=X2.iloc[400,0]\n",
        "print(XXX)"
      ]
    },
    {
      "cell_type": "code",
      "source": [
        "A = X.loc[X['Country']==\"Germany\"]\n",
        "print(A)"
      ],
      "metadata": {
        "colab": {
          "base_uri": "https://localhost:8080/"
        },
        "id": "i9GUFdGzJyGk",
        "outputId": "4456e02a-dde4-443c-f622-8e5e55c48ff6"
      },
      "execution_count": 83,
      "outputs": [
        {
          "output_type": "stream",
          "name": "stdout",
          "text": [
            "     Country  Year     Status  Life expectancy  Adult Mortality  \\\n",
            "566  Germany  2014  Developed             89.0               69   \n",
            "567  Germany  2013  Developed             86.0               71   \n",
            "568  Germany  2012  Developed             86.0               71   \n",
            "569  Germany  2011  Developed             85.0               74   \n",
            "570  Germany  2010  Developed             81.0               76   \n",
            "571  Germany  2009  Developed             80.0               79   \n",
            "572  Germany  2008  Developed             79.9                8   \n",
            "573  Germany  2007  Developed             79.8               82   \n",
            "574  Germany  2006  Developed             79.6               84   \n",
            "575  Germany  2005  Developed             79.2               85   \n",
            "576  Germany  2004  Developed             79.1               86   \n",
            "577  Germany  2003  Developed             78.5                9   \n",
            "578  Germany  2002  Developed             78.4               91   \n",
            "579  Germany  2001  Developed             78.3               92   \n",
            "580  Germany  2000  Developed             78.0               95   \n",
            "\n",
            "     infant deaths  Alcohol  percentage expenditure  Hepatitis B  Measles   \\\n",
            "566              2    11.03              941.756291           88       443   \n",
            "567              2    10.94              895.877950           88      1771   \n",
            "568              2    11.18              839.913320           88       166   \n",
            "569              2    11.20              869.790735           88      1607   \n",
            "570              2    11.20             7584.078579           88       780   \n",
            "571              2    11.22             7641.270645           88       574   \n",
            "572              2    11.36             8285.264655           87       917   \n",
            "573              3    11.50             7777.556353           86       567   \n",
            "574              3    11.76             6407.535954           87      2307   \n",
            "575              3    11.67             6012.925840            9       778   \n",
            "576              3    11.83             5842.374765           88       121   \n",
            "577              3    11.92              582.615703            9       779   \n",
            "578              3    12.25              437.105966           87      4657   \n",
            "579              3    12.46             4057.637383           86      6024   \n",
            "580              3    12.91             4238.540035           84         0   \n",
            "\n",
            "     ...  Polio  Total expenditure  Diphtheria    HIV/AIDS          GDP  \\\n",
            "566  ...     94              11.30           95        0.1   4792.65288   \n",
            "567  ...     94              11.16           95        0.1   4653.91143   \n",
            "568  ...     94               1.99           95        0.1   4465.24891   \n",
            "569  ...     94               1.93           95        0.1   4681.32796   \n",
            "570  ...     94              11.25           95        0.1  41785.55691   \n",
            "571  ...     95              11.40           96        0.1  41732.77250   \n",
            "572  ...     95               1.39           96        0.1  45699.19832   \n",
            "573  ...     95               1.18           96        0.1  41814.81910   \n",
            "574  ...     94               1.34           96        0.1  36447.87232   \n",
            "575  ...     95               1.52           96        0.1  34696.62920   \n",
            "576  ...     96               1.37           96        0.1  34165.93430   \n",
            "577  ...     96               1.62           97        0.1   3359.95215   \n",
            "578  ...     97               1.40           93        0.1   2525.16445   \n",
            "579  ...     96               1.15           93        0.1  23687.31689   \n",
            "580  ...     94               1.10            9        0.1  23718.74670   \n",
            "\n",
            "     Population   thinness  1-19 years   thinness 5-9 years  \\\n",
            "566     89825.0                    1.1                  1.1   \n",
            "567    864565.0                    1.1                  1.1   \n",
            "568   8425823.0                    1.1                  1.1   \n",
            "569   8274983.0                    1.1                  1.1   \n",
            "570   8177693.0                    1.1                  1.1   \n",
            "571    819237.0                    1.1                  1.1   \n",
            "572    821197.0                    1.1                  1.1   \n",
            "573  82266372.0                    1.1                  1.1   \n",
            "574  82376451.0                    1.1                  1.1   \n",
            "575  82469422.0                    1.1                  1.1   \n",
            "576   8251626.0                    1.1                  1.1   \n",
            "577  82534176.0                    1.1                  1.1   \n",
            "578  82488495.0                    1.2                  1.1   \n",
            "579  82349925.0                    1.2                  1.1   \n",
            "580   8221158.0                    1.2                  1.2   \n",
            "\n",
            "     Income composition of resources  Schooling  \n",
            "566                            0.920       17.0  \n",
            "567                            0.919       16.9  \n",
            "568                            0.916       16.9  \n",
            "569                            0.912       16.8  \n",
            "570                            0.907       16.7  \n",
            "571                            0.906       16.7  \n",
            "572                            0.903       16.6  \n",
            "573                            0.898       16.6  \n",
            "574                            0.892       16.5  \n",
            "575                            0.884       16.4  \n",
            "576                            0.877       16.4  \n",
            "577                            0.872       16.3  \n",
            "578                            0.867       16.3  \n",
            "579                            0.860       16.2  \n",
            "580                            0.855       16.2  \n",
            "\n",
            "[15 rows x 22 columns]\n"
          ]
        }
      ]
    },
    {
      "cell_type": "code",
      "source": [
        "#A1 absolut hasil korelasi negara Germany dengan ‘Life expectation’\n",
        "\n",
        "A.corr().iloc[:,1].abs().sort_values(ascending=False)"
      ],
      "metadata": {
        "colab": {
          "base_uri": "https://localhost:8080/"
        },
        "id": "GZrCrkv3L6Fd",
        "outputId": "0e20100b-2b32-4b18-8c48-5dd970b2a047"
      },
      "execution_count": 84,
      "outputs": [
        {
          "output_type": "execute_result",
          "data": {
            "text/plain": [
              "Life expectancy                    1.000000\n",
              "Schooling                          0.904975\n",
              "Year                               0.889633\n",
              "Income composition of resources    0.816872\n",
              "infant deaths                      0.735376\n",
              "Alcohol                            0.733409\n",
              "Polio                              0.608874\n",
              "Population                         0.553126\n",
              "Total expenditure                  0.529701\n",
              "under-five deaths                  0.515201\n",
              "GDP                                0.512538\n",
              "percentage expenditure             0.495003\n",
              " thinness  1-19 years              0.437048\n",
              " BMI                               0.416723\n",
              "Hepatitis B                        0.293970\n",
              "Measles                            0.257724\n",
              " thinness 5-9 years                0.252069\n",
              "Diphtheria                         0.247682\n",
              "Adult Mortality                    0.041800\n",
              " HIV/AIDS                               NaN\n",
              "Name: Life expectancy, dtype: float64"
            ]
          },
          "metadata": {},
          "execution_count": 84
        }
      ]
    },
    {
      "cell_type": "code",
      "source": [
        "#A2  angka penyakit polio (kolom ‘Polio’) pada negara Germany\n",
        "\n",
        "A.loc[:,['Country', 'Year','Polio']].sort_values(by=['Polio'],ascending=True)"
      ],
      "metadata": {
        "colab": {
          "base_uri": "https://localhost:8080/",
          "height": 519
        },
        "id": "tXszD3lTLP_R",
        "outputId": "e19b54ca-145a-42da-a396-df0cd4a1aec7"
      },
      "execution_count": 85,
      "outputs": [
        {
          "output_type": "execute_result",
          "data": {
            "text/plain": [
              "     Country  Year  Polio\n",
              "566  Germany  2014     94\n",
              "567  Germany  2013     94\n",
              "568  Germany  2012     94\n",
              "569  Germany  2011     94\n",
              "570  Germany  2010     94\n",
              "574  Germany  2006     94\n",
              "580  Germany  2000     94\n",
              "571  Germany  2009     95\n",
              "572  Germany  2008     95\n",
              "573  Germany  2007     95\n",
              "575  Germany  2005     95\n",
              "576  Germany  2004     96\n",
              "577  Germany  2003     96\n",
              "579  Germany  2001     96\n",
              "578  Germany  2002     97"
            ],
            "text/html": [
              "\n",
              "  <div id=\"df-6d2fc5aa-49e8-4c4e-adbc-3f44750d8642\">\n",
              "    <div class=\"colab-df-container\">\n",
              "      <div>\n",
              "<style scoped>\n",
              "    .dataframe tbody tr th:only-of-type {\n",
              "        vertical-align: middle;\n",
              "    }\n",
              "\n",
              "    .dataframe tbody tr th {\n",
              "        vertical-align: top;\n",
              "    }\n",
              "\n",
              "    .dataframe thead th {\n",
              "        text-align: right;\n",
              "    }\n",
              "</style>\n",
              "<table border=\"1\" class=\"dataframe\">\n",
              "  <thead>\n",
              "    <tr style=\"text-align: right;\">\n",
              "      <th></th>\n",
              "      <th>Country</th>\n",
              "      <th>Year</th>\n",
              "      <th>Polio</th>\n",
              "    </tr>\n",
              "  </thead>\n",
              "  <tbody>\n",
              "    <tr>\n",
              "      <th>566</th>\n",
              "      <td>Germany</td>\n",
              "      <td>2014</td>\n",
              "      <td>94</td>\n",
              "    </tr>\n",
              "    <tr>\n",
              "      <th>567</th>\n",
              "      <td>Germany</td>\n",
              "      <td>2013</td>\n",
              "      <td>94</td>\n",
              "    </tr>\n",
              "    <tr>\n",
              "      <th>568</th>\n",
              "      <td>Germany</td>\n",
              "      <td>2012</td>\n",
              "      <td>94</td>\n",
              "    </tr>\n",
              "    <tr>\n",
              "      <th>569</th>\n",
              "      <td>Germany</td>\n",
              "      <td>2011</td>\n",
              "      <td>94</td>\n",
              "    </tr>\n",
              "    <tr>\n",
              "      <th>570</th>\n",
              "      <td>Germany</td>\n",
              "      <td>2010</td>\n",
              "      <td>94</td>\n",
              "    </tr>\n",
              "    <tr>\n",
              "      <th>574</th>\n",
              "      <td>Germany</td>\n",
              "      <td>2006</td>\n",
              "      <td>94</td>\n",
              "    </tr>\n",
              "    <tr>\n",
              "      <th>580</th>\n",
              "      <td>Germany</td>\n",
              "      <td>2000</td>\n",
              "      <td>94</td>\n",
              "    </tr>\n",
              "    <tr>\n",
              "      <th>571</th>\n",
              "      <td>Germany</td>\n",
              "      <td>2009</td>\n",
              "      <td>95</td>\n",
              "    </tr>\n",
              "    <tr>\n",
              "      <th>572</th>\n",
              "      <td>Germany</td>\n",
              "      <td>2008</td>\n",
              "      <td>95</td>\n",
              "    </tr>\n",
              "    <tr>\n",
              "      <th>573</th>\n",
              "      <td>Germany</td>\n",
              "      <td>2007</td>\n",
              "      <td>95</td>\n",
              "    </tr>\n",
              "    <tr>\n",
              "      <th>575</th>\n",
              "      <td>Germany</td>\n",
              "      <td>2005</td>\n",
              "      <td>95</td>\n",
              "    </tr>\n",
              "    <tr>\n",
              "      <th>576</th>\n",
              "      <td>Germany</td>\n",
              "      <td>2004</td>\n",
              "      <td>96</td>\n",
              "    </tr>\n",
              "    <tr>\n",
              "      <th>577</th>\n",
              "      <td>Germany</td>\n",
              "      <td>2003</td>\n",
              "      <td>96</td>\n",
              "    </tr>\n",
              "    <tr>\n",
              "      <th>579</th>\n",
              "      <td>Germany</td>\n",
              "      <td>2001</td>\n",
              "      <td>96</td>\n",
              "    </tr>\n",
              "    <tr>\n",
              "      <th>578</th>\n",
              "      <td>Germany</td>\n",
              "      <td>2002</td>\n",
              "      <td>97</td>\n",
              "    </tr>\n",
              "  </tbody>\n",
              "</table>\n",
              "</div>\n",
              "      <button class=\"colab-df-convert\" onclick=\"convertToInteractive('df-6d2fc5aa-49e8-4c4e-adbc-3f44750d8642')\"\n",
              "              title=\"Convert this dataframe to an interactive table.\"\n",
              "              style=\"display:none;\">\n",
              "        \n",
              "  <svg xmlns=\"http://www.w3.org/2000/svg\" height=\"24px\"viewBox=\"0 0 24 24\"\n",
              "       width=\"24px\">\n",
              "    <path d=\"M0 0h24v24H0V0z\" fill=\"none\"/>\n",
              "    <path d=\"M18.56 5.44l.94 2.06.94-2.06 2.06-.94-2.06-.94-.94-2.06-.94 2.06-2.06.94zm-11 1L8.5 8.5l.94-2.06 2.06-.94-2.06-.94L8.5 2.5l-.94 2.06-2.06.94zm10 10l.94 2.06.94-2.06 2.06-.94-2.06-.94-.94-2.06-.94 2.06-2.06.94z\"/><path d=\"M17.41 7.96l-1.37-1.37c-.4-.4-.92-.59-1.43-.59-.52 0-1.04.2-1.43.59L10.3 9.45l-7.72 7.72c-.78.78-.78 2.05 0 2.83L4 21.41c.39.39.9.59 1.41.59.51 0 1.02-.2 1.41-.59l7.78-7.78 2.81-2.81c.8-.78.8-2.07 0-2.86zM5.41 20L4 18.59l7.72-7.72 1.47 1.35L5.41 20z\"/>\n",
              "  </svg>\n",
              "      </button>\n",
              "      \n",
              "  <style>\n",
              "    .colab-df-container {\n",
              "      display:flex;\n",
              "      flex-wrap:wrap;\n",
              "      gap: 12px;\n",
              "    }\n",
              "\n",
              "    .colab-df-convert {\n",
              "      background-color: #E8F0FE;\n",
              "      border: none;\n",
              "      border-radius: 50%;\n",
              "      cursor: pointer;\n",
              "      display: none;\n",
              "      fill: #1967D2;\n",
              "      height: 32px;\n",
              "      padding: 0 0 0 0;\n",
              "      width: 32px;\n",
              "    }\n",
              "\n",
              "    .colab-df-convert:hover {\n",
              "      background-color: #E2EBFA;\n",
              "      box-shadow: 0px 1px 2px rgba(60, 64, 67, 0.3), 0px 1px 3px 1px rgba(60, 64, 67, 0.15);\n",
              "      fill: #174EA6;\n",
              "    }\n",
              "\n",
              "    [theme=dark] .colab-df-convert {\n",
              "      background-color: #3B4455;\n",
              "      fill: #D2E3FC;\n",
              "    }\n",
              "\n",
              "    [theme=dark] .colab-df-convert:hover {\n",
              "      background-color: #434B5C;\n",
              "      box-shadow: 0px 1px 3px 1px rgba(0, 0, 0, 0.15);\n",
              "      filter: drop-shadow(0px 1px 2px rgba(0, 0, 0, 0.3));\n",
              "      fill: #FFFFFF;\n",
              "    }\n",
              "  </style>\n",
              "\n",
              "      <script>\n",
              "        const buttonEl =\n",
              "          document.querySelector('#df-6d2fc5aa-49e8-4c4e-adbc-3f44750d8642 button.colab-df-convert');\n",
              "        buttonEl.style.display =\n",
              "          google.colab.kernel.accessAllowed ? 'block' : 'none';\n",
              "\n",
              "        async function convertToInteractive(key) {\n",
              "          const element = document.querySelector('#df-6d2fc5aa-49e8-4c4e-adbc-3f44750d8642');\n",
              "          const dataTable =\n",
              "            await google.colab.kernel.invokeFunction('convertToInteractive',\n",
              "                                                     [key], {});\n",
              "          if (!dataTable) return;\n",
              "\n",
              "          const docLinkHtml = 'Like what you see? Visit the ' +\n",
              "            '<a target=\"_blank\" href=https://colab.research.google.com/notebooks/data_table.ipynb>data table notebook</a>'\n",
              "            + ' to learn more about interactive tables.';\n",
              "          element.innerHTML = '';\n",
              "          dataTable['output_type'] = 'display_data';\n",
              "          await google.colab.output.renderOutput(dataTable, element);\n",
              "          const docLink = document.createElement('div');\n",
              "          docLink.innerHTML = docLinkHtml;\n",
              "          element.appendChild(docLink);\n",
              "        }\n",
              "      </script>\n",
              "    </div>\n",
              "  </div>\n",
              "  "
            ]
          },
          "metadata": {},
          "execution_count": 85
        }
      ]
    },
    {
      "cell_type": "code",
      "source": [
        "#A3. negara dengan melakukan rata-rata pada tingkat kematian (kolom ‘Adult mortality’) dan satu negara diatas Germany\n",
        "A3 = X.groupby('Country')['Adult Mortality'].mean().sort_values(ascending=False)#.head(64)\n",
        "print(A3)\n"
      ],
      "metadata": {
        "colab": {
          "base_uri": "https://localhost:8080/"
        },
        "id": "XlK5pBNtNC9Y",
        "outputId": "f6577482-4046-4c79-aab6-6773558146a5"
      },
      "execution_count": 86,
      "outputs": [
        {
          "output_type": "stream",
          "name": "stdout",
          "text": [
            "Country\n",
            "Lesotho                     547.166667\n",
            "Zimbabwe                    470.800000\n",
            "Botswana                    460.933333\n",
            "Central African Republic    444.833333\n",
            "South Africa                418.400000\n",
            "                               ...    \n",
            "Italy                        54.066667\n",
            "Netherlands                  47.250000\n",
            "Albania                      45.062500\n",
            "Equatorial Guinea            32.000000\n",
            "Tunisia                      19.933333\n",
            "Name: Adult Mortality, Length: 133, dtype: float64\n"
          ]
        }
      ]
    },
    {
      "cell_type": "code",
      "source": [
        "#Satu negara diatas Germany\n",
        "print(\"Index Germany : \")\n",
        "print(A3.index.get_loc(\"Germany\"))\n",
        "print(\"Satu negara diatas Germany (110): \")\n",
        "print(A3.index[110])"
      ],
      "metadata": {
        "colab": {
          "base_uri": "https://localhost:8080/"
        },
        "id": "BvYhYUh-N0RQ",
        "outputId": "3fbcbd0e-61e1-4b8a-d122-22327843ff3a"
      },
      "execution_count": 87,
      "outputs": [
        {
          "output_type": "stream",
          "name": "stdout",
          "text": [
            "Index Germany : \n",
            "111\n",
            "Satu negara diatas Germany (110): \n",
            "Montenegro\n"
          ]
        }
      ]
    },
    {
      "cell_type": "markdown",
      "source": [
        "#B"
      ],
      "metadata": {
        "id": "a-U8O7lXTAS7"
      }
    },
    {
      "cell_type": "code",
      "source": [
        "#Nama: Faqih Alam\n",
        "#NIM: 2101221047\n",
        "#total baris dataset harus berjumlah : (2+1+0+1+2+2+1+0+4+7)x48 = 960"
      ],
      "metadata": {
        "id": "ph2hfWv8TzZI"
      },
      "execution_count": 88,
      "outputs": []
    },
    {
      "cell_type": "code",
      "source": [
        "import matplotlib.pyplot as plt\n",
        "import pandas as pd\n",
        "import pylab as pl\n",
        "import numpy as np\n",
        "%matplotlib inline"
      ],
      "metadata": {
        "id": "08vhc58hTBkr"
      },
      "execution_count": 89,
      "outputs": []
    },
    {
      "cell_type": "code",
      "source": [
        "# membaca dataset\n",
        "\n",
        "B = pd.read_csv(\"/content/drive/MyDrive/Colab Notebooks/UTS SLO/Life Expectancy Data.csv\")\n",
        "\n",
        "Membaca = B.iloc[0:960,:]"
      ],
      "metadata": {
        "id": "d8Jat8X7TXka"
      },
      "execution_count": 90,
      "outputs": []
    },
    {
      "cell_type": "code",
      "source": [
        "#membaca dataset diatas dari baris 0 sampai baris 960, dengan variabel bebas = “Adult Mortality”,”Income composition of resources”,dan ”Schooling”\n",
        "\n",
        "variabel = Membaca[['Adult Mortality','Income composition of resources','Schooling','Life expectancy']]\n",
        "variabel.head()"
      ],
      "metadata": {
        "colab": {
          "base_uri": "https://localhost:8080/",
          "height": 206
        },
        "id": "v4xHQXh1Uh5i",
        "outputId": "daa71d45-d2ec-44c9-bc2d-cb2a312c8665"
      },
      "execution_count": 91,
      "outputs": [
        {
          "output_type": "execute_result",
          "data": {
            "text/plain": [
              "   Adult Mortality  Income composition of resources  Schooling  \\\n",
              "0              263                            0.479       10.1   \n",
              "1              271                            0.476       10.0   \n",
              "2              268                            0.470        9.9   \n",
              "3              272                            0.463        9.8   \n",
              "4              275                            0.454        9.5   \n",
              "\n",
              "   Life expectancy  \n",
              "0             65.0  \n",
              "1             59.9  \n",
              "2             59.9  \n",
              "3             59.5  \n",
              "4             59.2  "
            ],
            "text/html": [
              "\n",
              "  <div id=\"df-3718625e-430d-4d59-893a-1f208f6e079c\">\n",
              "    <div class=\"colab-df-container\">\n",
              "      <div>\n",
              "<style scoped>\n",
              "    .dataframe tbody tr th:only-of-type {\n",
              "        vertical-align: middle;\n",
              "    }\n",
              "\n",
              "    .dataframe tbody tr th {\n",
              "        vertical-align: top;\n",
              "    }\n",
              "\n",
              "    .dataframe thead th {\n",
              "        text-align: right;\n",
              "    }\n",
              "</style>\n",
              "<table border=\"1\" class=\"dataframe\">\n",
              "  <thead>\n",
              "    <tr style=\"text-align: right;\">\n",
              "      <th></th>\n",
              "      <th>Adult Mortality</th>\n",
              "      <th>Income composition of resources</th>\n",
              "      <th>Schooling</th>\n",
              "      <th>Life expectancy</th>\n",
              "    </tr>\n",
              "  </thead>\n",
              "  <tbody>\n",
              "    <tr>\n",
              "      <th>0</th>\n",
              "      <td>263</td>\n",
              "      <td>0.479</td>\n",
              "      <td>10.1</td>\n",
              "      <td>65.0</td>\n",
              "    </tr>\n",
              "    <tr>\n",
              "      <th>1</th>\n",
              "      <td>271</td>\n",
              "      <td>0.476</td>\n",
              "      <td>10.0</td>\n",
              "      <td>59.9</td>\n",
              "    </tr>\n",
              "    <tr>\n",
              "      <th>2</th>\n",
              "      <td>268</td>\n",
              "      <td>0.470</td>\n",
              "      <td>9.9</td>\n",
              "      <td>59.9</td>\n",
              "    </tr>\n",
              "    <tr>\n",
              "      <th>3</th>\n",
              "      <td>272</td>\n",
              "      <td>0.463</td>\n",
              "      <td>9.8</td>\n",
              "      <td>59.5</td>\n",
              "    </tr>\n",
              "    <tr>\n",
              "      <th>4</th>\n",
              "      <td>275</td>\n",
              "      <td>0.454</td>\n",
              "      <td>9.5</td>\n",
              "      <td>59.2</td>\n",
              "    </tr>\n",
              "  </tbody>\n",
              "</table>\n",
              "</div>\n",
              "      <button class=\"colab-df-convert\" onclick=\"convertToInteractive('df-3718625e-430d-4d59-893a-1f208f6e079c')\"\n",
              "              title=\"Convert this dataframe to an interactive table.\"\n",
              "              style=\"display:none;\">\n",
              "        \n",
              "  <svg xmlns=\"http://www.w3.org/2000/svg\" height=\"24px\"viewBox=\"0 0 24 24\"\n",
              "       width=\"24px\">\n",
              "    <path d=\"M0 0h24v24H0V0z\" fill=\"none\"/>\n",
              "    <path d=\"M18.56 5.44l.94 2.06.94-2.06 2.06-.94-2.06-.94-.94-2.06-.94 2.06-2.06.94zm-11 1L8.5 8.5l.94-2.06 2.06-.94-2.06-.94L8.5 2.5l-.94 2.06-2.06.94zm10 10l.94 2.06.94-2.06 2.06-.94-2.06-.94-.94-2.06-.94 2.06-2.06.94z\"/><path d=\"M17.41 7.96l-1.37-1.37c-.4-.4-.92-.59-1.43-.59-.52 0-1.04.2-1.43.59L10.3 9.45l-7.72 7.72c-.78.78-.78 2.05 0 2.83L4 21.41c.39.39.9.59 1.41.59.51 0 1.02-.2 1.41-.59l7.78-7.78 2.81-2.81c.8-.78.8-2.07 0-2.86zM5.41 20L4 18.59l7.72-7.72 1.47 1.35L5.41 20z\"/>\n",
              "  </svg>\n",
              "      </button>\n",
              "      \n",
              "  <style>\n",
              "    .colab-df-container {\n",
              "      display:flex;\n",
              "      flex-wrap:wrap;\n",
              "      gap: 12px;\n",
              "    }\n",
              "\n",
              "    .colab-df-convert {\n",
              "      background-color: #E8F0FE;\n",
              "      border: none;\n",
              "      border-radius: 50%;\n",
              "      cursor: pointer;\n",
              "      display: none;\n",
              "      fill: #1967D2;\n",
              "      height: 32px;\n",
              "      padding: 0 0 0 0;\n",
              "      width: 32px;\n",
              "    }\n",
              "\n",
              "    .colab-df-convert:hover {\n",
              "      background-color: #E2EBFA;\n",
              "      box-shadow: 0px 1px 2px rgba(60, 64, 67, 0.3), 0px 1px 3px 1px rgba(60, 64, 67, 0.15);\n",
              "      fill: #174EA6;\n",
              "    }\n",
              "\n",
              "    [theme=dark] .colab-df-convert {\n",
              "      background-color: #3B4455;\n",
              "      fill: #D2E3FC;\n",
              "    }\n",
              "\n",
              "    [theme=dark] .colab-df-convert:hover {\n",
              "      background-color: #434B5C;\n",
              "      box-shadow: 0px 1px 3px 1px rgba(0, 0, 0, 0.15);\n",
              "      filter: drop-shadow(0px 1px 2px rgba(0, 0, 0, 0.3));\n",
              "      fill: #FFFFFF;\n",
              "    }\n",
              "  </style>\n",
              "\n",
              "      <script>\n",
              "        const buttonEl =\n",
              "          document.querySelector('#df-3718625e-430d-4d59-893a-1f208f6e079c button.colab-df-convert');\n",
              "        buttonEl.style.display =\n",
              "          google.colab.kernel.accessAllowed ? 'block' : 'none';\n",
              "\n",
              "        async function convertToInteractive(key) {\n",
              "          const element = document.querySelector('#df-3718625e-430d-4d59-893a-1f208f6e079c');\n",
              "          const dataTable =\n",
              "            await google.colab.kernel.invokeFunction('convertToInteractive',\n",
              "                                                     [key], {});\n",
              "          if (!dataTable) return;\n",
              "\n",
              "          const docLinkHtml = 'Like what you see? Visit the ' +\n",
              "            '<a target=\"_blank\" href=https://colab.research.google.com/notebooks/data_table.ipynb>data table notebook</a>'\n",
              "            + ' to learn more about interactive tables.';\n",
              "          element.innerHTML = '';\n",
              "          dataTable['output_type'] = 'display_data';\n",
              "          await google.colab.output.renderOutput(dataTable, element);\n",
              "          const docLink = document.createElement('div');\n",
              "          docLink.innerHTML = docLinkHtml;\n",
              "          element.appendChild(docLink);\n",
              "        }\n",
              "      </script>\n",
              "    </div>\n",
              "  </div>\n",
              "  "
            ]
          },
          "metadata": {},
          "execution_count": 91
        }
      ]
    },
    {
      "cell_type": "code",
      "source": [
        "data_histo = variabel[['Adult Mortality','Income composition of resources','Schooling']]\n",
        "data_histo.hist()\n",
        "plt.show()"
      ],
      "metadata": {
        "colab": {
          "base_uri": "https://localhost:8080/",
          "height": 281
        },
        "id": "WPDnqW4HVLKo",
        "outputId": "3507cdca-c6a8-4210-ef5c-b0f7831f1f3b"
      },
      "execution_count": 92,
      "outputs": [
        {
          "output_type": "display_data",
          "data": {
            "text/plain": [
              "<Figure size 432x288 with 4 Axes>"
            ],
            "image/png": "[encoded data removed]"
          },
          "metadata": {
            "needs_background": "light"
          }
        }
      ]
    },
    {
      "cell_type": "code",
      "source": [
        "#Pembuatan dataset pelatihan dan pengujian, diketahui pemilihan data latih 70% (0.7)\n",
        "\n",
        "msk = np.random.rand(len(Membaca)) < 0.7\n",
        "train = variabel[msk]\n",
        "test = variabel[~msk]\n",
        "train"
      ],
      "metadata": {
        "colab": {
          "base_uri": "https://localhost:8080/",
          "height": 423
        },
        "id": "J2oi-VhAVe1X",
        "outputId": "c74725c7-5a79-4e21-eab6-8436fe8d6c07"
      },
      "execution_count": 93,
      "outputs": [
        {
          "output_type": "execute_result",
          "data": {
            "text/plain": [
              "     Adult Mortality  Income composition of resources  Schooling  \\\n",
              "0                263                            0.479       10.1   \n",
              "2                268                            0.470        9.9   \n",
              "3                272                            0.463        9.8   \n",
              "4                275                            0.454        9.5   \n",
              "5                279                            0.448        9.2   \n",
              "..               ...                              ...        ...   \n",
              "951              296                            0.333        5.5   \n",
              "954               57                            0.828       14.2   \n",
              "956               59                            0.826       14.8   \n",
              "957               62                            0.819       14.6   \n",
              "959               64                            0.813       14.6   \n",
              "\n",
              "     Life expectancy  \n",
              "0               65.0  \n",
              "2               59.9  \n",
              "3               59.5  \n",
              "4               59.2  \n",
              "5               58.8  \n",
              "..               ...  \n",
              "951             52.8  \n",
              "954             81.1  \n",
              "956             87.0  \n",
              "957             83.0  \n",
              "959             80.0  \n",
              "\n",
              "[672 rows x 4 columns]"
            ],
            "text/html": [
              "\n",
              "  <div id=\"df-d1c26934-6ede-4fbd-8b05-39a0aa2735ae\">\n",
              "    <div class=\"colab-df-container\">\n",
              "      <div>\n",
              "<style scoped>\n",
              "    .dataframe tbody tr th:only-of-type {\n",
              "        vertical-align: middle;\n",
              "    }\n",
              "\n",
              "    .dataframe tbody tr th {\n",
              "        vertical-align: top;\n",
              "    }\n",
              "\n",
              "    .dataframe thead th {\n",
              "        text-align: right;\n",
              "    }\n",
              "</style>\n",
              "<table border=\"1\" class=\"dataframe\">\n",
              "  <thead>\n",
              "    <tr style=\"text-align: right;\">\n",
              "      <th></th>\n",
              "      <th>Adult Mortality</th>\n",
              "      <th>Income composition of resources</th>\n",
              "      <th>Schooling</th>\n",
              "      <th>Life expectancy</th>\n",
              "    </tr>\n",
              "  </thead>\n",
              "  <tbody>\n",
              "    <tr>\n",
              "      <th>0</th>\n",
              "      <td>263</td>\n",
              "      <td>0.479</td>\n",
              "      <td>10.1</td>\n",
              "      <td>65.0</td>\n",
              "    </tr>\n",
              "    <tr>\n",
              "      <th>2</th>\n",
              "      <td>268</td>\n",
              "      <td>0.470</td>\n",
              "      <td>9.9</td>\n",
              "      <td>59.9</td>\n",
              "    </tr>\n",
              "    <tr>\n",
              "      <th>3</th>\n",
              "      <td>272</td>\n",
              "      <td>0.463</td>\n",
              "      <td>9.8</td>\n",
              "      <td>59.5</td>\n",
              "    </tr>\n",
              "    <tr>\n",
              "      <th>4</th>\n",
              "      <td>275</td>\n",
              "      <td>0.454</td>\n",
              "      <td>9.5</td>\n",
              "      <td>59.2</td>\n",
              "    </tr>\n",
              "    <tr>\n",
              "      <th>5</th>\n",
              "      <td>279</td>\n",
              "      <td>0.448</td>\n",
              "      <td>9.2</td>\n",
              "      <td>58.8</td>\n",
              "    </tr>\n",
              "    <tr>\n",
              "      <th>...</th>\n",
              "      <td>...</td>\n",
              "      <td>...</td>\n",
              "      <td>...</td>\n",
              "      <td>...</td>\n",
              "    </tr>\n",
              "    <tr>\n",
              "      <th>951</th>\n",
              "      <td>296</td>\n",
              "      <td>0.333</td>\n",
              "      <td>5.5</td>\n",
              "      <td>52.8</td>\n",
              "    </tr>\n",
              "    <tr>\n",
              "      <th>954</th>\n",
              "      <td>57</td>\n",
              "      <td>0.828</td>\n",
              "      <td>14.2</td>\n",
              "      <td>81.1</td>\n",
              "    </tr>\n",
              "    <tr>\n",
              "      <th>956</th>\n",
              "      <td>59</td>\n",
              "      <td>0.826</td>\n",
              "      <td>14.8</td>\n",
              "      <td>87.0</td>\n",
              "    </tr>\n",
              "    <tr>\n",
              "      <th>957</th>\n",
              "      <td>62</td>\n",
              "      <td>0.819</td>\n",
              "      <td>14.6</td>\n",
              "      <td>83.0</td>\n",
              "    </tr>\n",
              "    <tr>\n",
              "      <th>959</th>\n",
              "      <td>64</td>\n",
              "      <td>0.813</td>\n",
              "      <td>14.6</td>\n",
              "      <td>80.0</td>\n",
              "    </tr>\n",
              "  </tbody>\n",
              "</table>\n",
              "<p>672 rows × 4 columns</p>\n",
              "</div>\n",
              "      <button class=\"colab-df-convert\" onclick=\"convertToInteractive('df-d1c26934-6ede-4fbd-8b05-39a0aa2735ae')\"\n",
              "              title=\"Convert this dataframe to an interactive table.\"\n",
              "              style=\"display:none;\">\n",
              "        \n",
              "  <svg xmlns=\"http://www.w3.org/2000/svg\" height=\"24px\"viewBox=\"0 0 24 24\"\n",
              "       width=\"24px\">\n",
              "    <path d=\"M0 0h24v24H0V0z\" fill=\"none\"/>\n",
              "    <path d=\"M18.56 5.44l.94 2.06.94-2.06 2.06-.94-2.06-.94-.94-2.06-.94 2.06-2.06.94zm-11 1L8.5 8.5l.94-2.06 2.06-.94-2.06-.94L8.5 2.5l-.94 2.06-2.06.94zm10 10l.94 2.06.94-2.06 2.06-.94-2.06-.94-.94-2.06-.94 2.06-2.06.94z\"/><path d=\"M17.41 7.96l-1.37-1.37c-.4-.4-.92-.59-1.43-.59-.52 0-1.04.2-1.43.59L10.3 9.45l-7.72 7.72c-.78.78-.78 2.05 0 2.83L4 21.41c.39.39.9.59 1.41.59.51 0 1.02-.2 1.41-.59l7.78-7.78 2.81-2.81c.8-.78.8-2.07 0-2.86zM5.41 20L4 18.59l7.72-7.72 1.47 1.35L5.41 20z\"/>\n",
              "  </svg>\n",
              "      </button>\n",
              "      \n",
              "  <style>\n",
              "    .colab-df-container {\n",
              "      display:flex;\n",
              "      flex-wrap:wrap;\n",
              "      gap: 12px;\n",
              "    }\n",
              "\n",
              "    .colab-df-convert {\n",
              "      background-color: #E8F0FE;\n",
              "      border: none;\n",
              "      border-radius: 50%;\n",
              "      cursor: pointer;\n",
              "      display: none;\n",
              "      fill: #1967D2;\n",
              "      height: 32px;\n",
              "      padding: 0 0 0 0;\n",
              "      width: 32px;\n",
              "    }\n",
              "\n",
              "    .colab-df-convert:hover {\n",
              "      background-color: #E2EBFA;\n",
              "      box-shadow: 0px 1px 2px rgba(60, 64, 67, 0.3), 0px 1px 3px 1px rgba(60, 64, 67, 0.15);\n",
              "      fill: #174EA6;\n",
              "    }\n",
              "\n",
              "    [theme=dark] .colab-df-convert {\n",
              "      background-color: #3B4455;\n",
              "      fill: #D2E3FC;\n",
              "    }\n",
              "\n",
              "    [theme=dark] .colab-df-convert:hover {\n",
              "      background-color: #434B5C;\n",
              "      box-shadow: 0px 1px 3px 1px rgba(0, 0, 0, 0.15);\n",
              "      filter: drop-shadow(0px 1px 2px rgba(0, 0, 0, 0.3));\n",
              "      fill: #FFFFFF;\n",
              "    }\n",
              "  </style>\n",
              "\n",
              "      <script>\n",
              "        const buttonEl =\n",
              "          document.querySelector('#df-d1c26934-6ede-4fbd-8b05-39a0aa2735ae button.colab-df-convert');\n",
              "        buttonEl.style.display =\n",
              "          google.colab.kernel.accessAllowed ? 'block' : 'none';\n",
              "\n",
              "        async function convertToInteractive(key) {\n",
              "          const element = document.querySelector('#df-d1c26934-6ede-4fbd-8b05-39a0aa2735ae');\n",
              "          const dataTable =\n",
              "            await google.colab.kernel.invokeFunction('convertToInteractive',\n",
              "                                                     [key], {});\n",
              "          if (!dataTable) return;\n",
              "\n",
              "          const docLinkHtml = 'Like what you see? Visit the ' +\n",
              "            '<a target=\"_blank\" href=https://colab.research.google.com/notebooks/data_table.ipynb>data table notebook</a>'\n",
              "            + ' to learn more about interactive tables.';\n",
              "          element.innerHTML = '';\n",
              "          dataTable['output_type'] = 'display_data';\n",
              "          await google.colab.output.renderOutput(dataTable, element);\n",
              "          const docLink = document.createElement('div');\n",
              "          docLink.innerHTML = docLinkHtml;\n",
              "          element.appendChild(docLink);\n",
              "        }\n",
              "      </script>\n",
              "    </div>\n",
              "  </div>\n",
              "  "
            ]
          },
          "metadata": {},
          "execution_count": 93
        }
      ]
    },
    {
      "cell_type": "code",
      "source": [
        "#Metode regresi linier multivariat\n",
        "\n",
        "from sklearn import linear_model\n",
        "model = linear_model.LinearRegression()\n",
        "train_x = np.asanyarray(train[['Adult Mortality','Income composition of resources','Schooling']])\n",
        "train_y = np.asanyarray(train[['Life expectancy']])\n",
        "model.fit (train_x, train_y)\n",
        "# The coefficients\n",
        "print ('Coefficients: ', model.coef_)\n",
        "print ('Intercept: ',model.intercept_)\n",
        "\n",
        "from sklearn.metrics import r2_score\n",
        "\n",
        "test_x = np.asanyarray(test[['Adult Mortality','Income composition of resources','Schooling']])\n",
        "test_y = np.asanyarray(test[['Life expectancy']])\n",
        "test_y_ = model.predict(test_x)\n",
        "\n",
        "print(\"R2-score: %.2f\" % r2_score(test_y_ , test_y) )"
      ],
      "metadata": {
        "colab": {
          "base_uri": "https://localhost:8080/"
        },
        "id": "bK8IFpvhV0kB",
        "outputId": "d6b9bffb-c6b4-4a9a-f3df-922825da6414"
      },
      "execution_count": 94,
      "outputs": [
        {
          "output_type": "stream",
          "name": "stdout",
          "text": [
            "Coefficients:  [[-0.03247331 10.99484186  1.08962824]]\n",
            "Intercept:  [54.75070815]\n",
            "R2-score: 0.71\n"
          ]
        }
      ]
    },
    {
      "cell_type": "code",
      "source": [
        "#Metode regresi Decision Tree multivariate \n",
        "X = variabel.iloc[:, 0:2].values\n",
        "y = variabel.iloc[:, 3].values\n",
        "y = y.reshape(-1,1)\n",
        "from sklearn.model_selection import train_test_split\n",
        "X_train, X_test, y_train, y_test = train_test_split(X, y, test_size = 0.3, random_state = 400)\n",
        "\n",
        "from sklearn.tree import DecisionTreeRegressor\n",
        "\n",
        "model2 = DecisionTreeRegressor()\n",
        "model2.fit(X_train, y_train)\n",
        "\n",
        "from sklearn.metrics import r2_score\n",
        "\n",
        "test_y_ = model2.predict(X_test)\n",
        "print(\"R2-score: %.2f\" % r2_score(test_y_ , y_test) )"
      ],
      "metadata": {
        "colab": {
          "base_uri": "https://localhost:8080/"
        },
        "id": "9v0A_lwfWveg",
        "outputId": "a16d262b-d709-456a-8d22-8051f9aa7bc4"
      },
      "execution_count": 95,
      "outputs": [
        {
          "output_type": "stream",
          "name": "stdout",
          "text": [
            "R2-score: 0.91\n"
          ]
        }
      ]
    },
    {
      "cell_type": "code",
      "source": [
        "#Metode regresi Support Vector multivariate\n",
        "X = variabel.iloc[:, 0:2].values\n",
        "y = variabel.iloc[:, 3].values\n",
        "y = y.reshape(-1,1)\n",
        "# Splitting the dataset into the Training set and Test set\n",
        "from sklearn.model_selection import train_test_split\n",
        "X_train, X_test, y_train, y_test = train_test_split(X, y, test_size = 0.3, random_state = 400)\n",
        "\n",
        "from sklearn.svm import SVR\n",
        "model3 = SVR(kernel = 'linear')\n",
        "model3.fit(X_train, y_train)\n",
        "from sklearn.metrics import r2_score\n",
        "test_y_ = model3.predict(X_test)\n",
        "test_y=y_test;\n",
        "print(\"R2-score: %.2f\" % r2_score(test_y_ , test_y) )"
      ],
      "metadata": {
        "colab": {
          "base_uri": "https://localhost:8080/"
        },
        "id": "se8MYXSzWxld",
        "outputId": "a68d900f-dda6-4a14-8eb1-f402a2fe6720"
      },
      "execution_count": 96,
      "outputs": [
        {
          "output_type": "stream",
          "name": "stderr",
          "text": [
            "/usr/local/lib/python3.7/dist-packages/sklearn/utils/validation.py:993: DataConversionWarning: A column-vector y was passed when a 1d array was expected. Please change the shape of y to (n_samples, ), for example using ravel().\n",
            "  y = column_or_1d(y, warn=True)\n"
          ]
        },
        {
          "output_type": "stream",
          "name": "stdout",
          "text": [
            "R2-score: 0.63\n"
          ]
        }
      ]
    },
    {
      "cell_type": "markdown",
      "source": [
        "# Berdasarkan perbandingan 3 metode didapatkan nilai R2 Score masing-masing Metode\n",
        "## Metode regresi linier multivariat : 0.76\n",
        "## Metode regresi Decision Tree multivariate : 0.91\n",
        "## Metode regresi Support Vector multivariate : 0.63\n",
        "\n",
        "### Berdasarkan ketiga metode, metode paling baik untuk dataset ini dilakukan dengan metode regresi Decision Tree multivariate.\n"
      ],
      "metadata": {
        "id": "g1nDyZG-Z_hD"
      }
    },
    {
      "cell_type": "code",
      "source": [],
      "metadata": {
        "id": "wAMSLGG_aa_W"
      },
      "execution_count": 96,
      "outputs": []
    }
  ]
}